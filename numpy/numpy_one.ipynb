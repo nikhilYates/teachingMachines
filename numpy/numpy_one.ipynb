{
 "cells": [
  {
   "cell_type": "code",
   "execution_count": 6,
   "metadata": {},
   "outputs": [],
   "source": [
    "import numpy as np\n",
    "import time"
   ]
  },
  {
   "cell_type": "code",
   "execution_count": 7,
   "metadata": {},
   "outputs": [
    {
     "data": {
      "text/plain": [
       "array([2, 4, 6])"
      ]
     },
     "execution_count": 7,
     "metadata": {},
     "output_type": "execute_result"
    }
   ],
   "source": [
    "# create a function that takes a vector and returns a new vector with all elements from the first vector doubled\n",
    "vect_rand = np.array([1, 2, 3])\n",
    "vect_doub = np.multiply(vect_rand, 2)\n",
    "vect_doub"
   ]
  },
  {
   "cell_type": "code",
   "execution_count": 8,
   "metadata": {},
   "outputs": [
    {
     "data": {
      "text/plain": [
       "array([91,  9, 12, 15])"
      ]
     },
     "execution_count": 8,
     "metadata": {},
     "output_type": "execute_result"
    }
   ],
   "source": [
    "# create a function that performs element wise summation on two vectors\n",
    "vect_1 = np.array([2, 5, 7, 9])\n",
    "vect_2 = np.array([89, 4, 5, 6])\n",
    "vect_elSum = np.add(vect_1, vect_2)\n",
    "vect_elSum\n"
   ]
  },
  {
   "cell_type": "code",
   "execution_count": 9,
   "metadata": {},
   "outputs": [
    {
     "data": {
      "text/plain": [
       "array([[ 30,  24,  18],\n",
       "       [ 84,  69,  54],\n",
       "       [138, 114,  90]])"
      ]
     },
     "execution_count": 9,
     "metadata": {},
     "output_type": "execute_result"
    }
   ],
   "source": [
    "# return the dot product of two matrices\n",
    "\n",
    "matr_1 = np.array([[1, 2, 3], [4, 5, 6], [7, 8, 9]])\n",
    "matr_2 = np.array([[9, 8, 7], [6, 5, 4], [3, 2, 1]])\n",
    "matr_dp = np.dot(matr_1, matr_2)\n",
    "matr_dp\n"
   ]
  }
 ],
 "metadata": {
  "kernelspec": {
   "display_name": "Python 3",
   "language": "python",
   "name": "python3"
  },
  "language_info": {
   "codemirror_mode": {
    "name": "ipython",
    "version": 3
   },
   "file_extension": ".py",
   "mimetype": "text/x-python",
   "name": "python",
   "nbconvert_exporter": "python",
   "pygments_lexer": "ipython3",
   "version": "3.12.0"
  }
 },
 "nbformat": 4,
 "nbformat_minor": 2
}
