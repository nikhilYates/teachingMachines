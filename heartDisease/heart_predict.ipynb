{
  "cells": [
    {
      "cell_type": "markdown",
      "metadata": {
        "id": "0tqE8589DBMz"
      },
      "source": [
        "Install profiling\n",
        "https://github.com/ydataai/ydata-profiling"
      ]
    },
    {
      "cell_type": "code",
      "execution_count": 2,
      "metadata": {
        "colab": {
          "base_uri": "https://localhost:8080/"
        },
        "id": "_dzUHDkXC5zK",
        "outputId": "72e15f0c-a2bf-4626-faf6-147aa6c548b0"
      },
      "outputs": [],
      "source": [
        "# pip install ydata-profiling\n",
        "# pip install --upgrade typing-extensions"
      ]
    },
    {
      "cell_type": "markdown",
      "metadata": {
        "id": "wWRIHYgjDFfC"
      },
      "source": [
        "\n",
        "\n",
        "To initiate a session restart, go to Runtime > Restart Session. Occasionally, the impact of installed libraries may not be visible until a restart is performed."
      ]
    },
    {
      "cell_type": "code",
      "execution_count": 3,
      "metadata": {
        "id": "xwKHqD1tDRfm"
      },
      "outputs": [
        {
          "name": "stderr",
          "output_type": "stream",
          "text": [
            "/var/folders/9f/d0blkdy107j9w989n_kd85l40000gn/T/ipykernel_54114/70341127.py:2: DeprecationWarning: \n",
            "Pyarrow will become a required dependency of pandas in the next major release of pandas (pandas 3.0),\n",
            "(to allow more performant data types, such as the Arrow string type, and better interoperability with other libraries)\n",
            "but was not found to be installed on your system.\n",
            "If this would cause problems for you,\n",
            "please provide us feedback at https://github.com/pandas-dev/pandas/issues/54466\n",
            "        \n",
            "  import pandas as pd\n"
          ]
        }
      ],
      "source": [
        "import numpy as np\n",
        "import pandas as pd\n",
        "%matplotlib inline\n",
        "import matplotlib.pyplot as plt\n",
        "import seaborn as sns\n",
        "from ydata_profiling import ProfileReport"
      ]
    },
    {
      "cell_type": "markdown",
      "metadata": {
        "id": "zVdAkSDhDTX_"
      },
      "source": [
        "## Data Transfer: Moving Data from Google Drive to the Current Directory ( 5 pt)\n",
        "In this section, we will transfer data from Google Drive to the current working directory and Unzip it. Let's assume that the data is located in \"/content/drive/MyDrive/HW2/HW2_Data.zip\"."
      ]
    },
    {
      "cell_type": "code",
      "execution_count": 4,
      "metadata": {
        "colab": {
          "base_uri": "https://localhost:8080/"
        },
        "id": "q2dFkaK-DVcR",
        "outputId": "704ecf4c-1f59-4522-e106-49d46add8282"
      },
      "outputs": [],
      "source": [
        "# from google import drive\n",
        "# drive.mount('/content/drive')"
      ]
    },
    {
      "cell_type": "code",
      "execution_count": 5,
      "metadata": {
        "colab": {
          "base_uri": "https://localhost:8080/"
        },
        "id": "qsmLZvzvDXxM",
        "outputId": "8fb6d133-a704-4140-abb5-8121f73f2de8"
      },
      "outputs": [
        {
          "name": "stdout",
          "output_type": "stream",
          "text": [
            "unzip:  cannot find or open /content/drive/MyDrive/HW2/HW2_Data.zip, /content/drive/MyDrive/HW2/HW2_Data.zip.zip or /content/drive/MyDrive/HW2/HW2_Data.zip.ZIP.\n"
          ]
        }
      ],
      "source": [
        "################################################################################\n",
        "## TODO: Use Linux command to transfer and unzip data\n",
        "################################################################################\n",
        "# zip file location should be :  \"/content/drive/MyDrive/HW2/HW2_Data.zip\"\n",
        "# destination directory for unzipping should be  =>  \"/content/\"\n",
        "!unzip \"/content/drive/MyDrive/HW2/HW2_Data.zip\" -d \"/content/\"\n",
        "\n",
        "\n"
      ]
    },
    {
      "cell_type": "markdown",
      "metadata": {
        "id": "klxogYOsDyZ6"
      },
      "source": [
        "## Load Data ( 5 pt)\n",
        "load data in pandas dataframe"
      ]
    },
    {
      "cell_type": "code",
      "execution_count": 6,
      "metadata": {
        "colab": {
          "base_uri": "https://localhost:8080/",
          "height": 423
        },
        "id": "hL9Ic5n6D0dG",
        "outputId": "a1390e33-55cd-44df-d312-18ee1ee75375"
      },
      "outputs": [
        {
          "data": {
            "text/html": [
              "<div>\n",
              "<style scoped>\n",
              "    .dataframe tbody tr th:only-of-type {\n",
              "        vertical-align: middle;\n",
              "    }\n",
              "\n",
              "    .dataframe tbody tr th {\n",
              "        vertical-align: top;\n",
              "    }\n",
              "\n",
              "    .dataframe thead th {\n",
              "        text-align: right;\n",
              "    }\n",
              "</style>\n",
              "<table border=\"1\" class=\"dataframe\">\n",
              "  <thead>\n",
              "    <tr style=\"text-align: right;\">\n",
              "      <th></th>\n",
              "      <th>age</th>\n",
              "      <th>sex</th>\n",
              "      <th>chest pain type</th>\n",
              "      <th>resting bp s</th>\n",
              "      <th>cholesterol</th>\n",
              "      <th>fasting blood sugar</th>\n",
              "      <th>resting ecg</th>\n",
              "      <th>max heart rate</th>\n",
              "      <th>exercise angina</th>\n",
              "      <th>oldpeak</th>\n",
              "      <th>ST slope</th>\n",
              "      <th>target</th>\n",
              "    </tr>\n",
              "  </thead>\n",
              "  <tbody>\n",
              "    <tr>\n",
              "      <th>0</th>\n",
              "      <td>40</td>\n",
              "      <td>1</td>\n",
              "      <td>2</td>\n",
              "      <td>140</td>\n",
              "      <td>289</td>\n",
              "      <td>0</td>\n",
              "      <td>0</td>\n",
              "      <td>172</td>\n",
              "      <td>0</td>\n",
              "      <td>0.0</td>\n",
              "      <td>1</td>\n",
              "      <td>0</td>\n",
              "    </tr>\n",
              "    <tr>\n",
              "      <th>1</th>\n",
              "      <td>49</td>\n",
              "      <td>0</td>\n",
              "      <td>3</td>\n",
              "      <td>160</td>\n",
              "      <td>180</td>\n",
              "      <td>0</td>\n",
              "      <td>0</td>\n",
              "      <td>156</td>\n",
              "      <td>0</td>\n",
              "      <td>1.0</td>\n",
              "      <td>2</td>\n",
              "      <td>1</td>\n",
              "    </tr>\n",
              "    <tr>\n",
              "      <th>2</th>\n",
              "      <td>37</td>\n",
              "      <td>1</td>\n",
              "      <td>2</td>\n",
              "      <td>130</td>\n",
              "      <td>283</td>\n",
              "      <td>0</td>\n",
              "      <td>1</td>\n",
              "      <td>98</td>\n",
              "      <td>0</td>\n",
              "      <td>0.0</td>\n",
              "      <td>1</td>\n",
              "      <td>0</td>\n",
              "    </tr>\n",
              "    <tr>\n",
              "      <th>3</th>\n",
              "      <td>48</td>\n",
              "      <td>0</td>\n",
              "      <td>4</td>\n",
              "      <td>138</td>\n",
              "      <td>214</td>\n",
              "      <td>0</td>\n",
              "      <td>0</td>\n",
              "      <td>108</td>\n",
              "      <td>1</td>\n",
              "      <td>1.5</td>\n",
              "      <td>2</td>\n",
              "      <td>1</td>\n",
              "    </tr>\n",
              "    <tr>\n",
              "      <th>4</th>\n",
              "      <td>54</td>\n",
              "      <td>1</td>\n",
              "      <td>3</td>\n",
              "      <td>150</td>\n",
              "      <td>195</td>\n",
              "      <td>0</td>\n",
              "      <td>0</td>\n",
              "      <td>122</td>\n",
              "      <td>0</td>\n",
              "      <td>0.0</td>\n",
              "      <td>1</td>\n",
              "      <td>0</td>\n",
              "    </tr>\n",
              "  </tbody>\n",
              "</table>\n",
              "</div>"
            ],
            "text/plain": [
              "   age  sex  chest pain type  resting bp s  cholesterol  fasting blood sugar  \\\n",
              "0   40    1                2           140          289                    0   \n",
              "1   49    0                3           160          180                    0   \n",
              "2   37    1                2           130          283                    0   \n",
              "3   48    0                4           138          214                    0   \n",
              "4   54    1                3           150          195                    0   \n",
              "\n",
              "   resting ecg  max heart rate  exercise angina  oldpeak  ST slope  target  \n",
              "0            0             172                0      0.0         1       0  \n",
              "1            0             156                0      1.0         2       1  \n",
              "2            1              98                0      0.0         1       0  \n",
              "3            0             108                1      1.5         2       1  \n",
              "4            0             122                0      0.0         1       0  "
            ]
          },
          "execution_count": 6,
          "metadata": {},
          "output_type": "execute_result"
        }
      ],
      "source": [
        "################################################################################\n",
        "## TODO: load and display dataframe\n",
        "################################################################################\n",
        "data = pd.read_csv('./HW2_Data/Heart_Disease_Dataset.csv')\n",
        "df = pd.DataFrame(data)\n",
        "df.head()\n",
        "\n"
      ]
    },
    {
      "cell_type": "markdown",
      "metadata": {
        "id": "wlDRLOrID9cS"
      },
      "source": [
        "## Explore data by ProfileReport ( 5 pt)\n",
        "https://github.com/ydataai/ydata-profiling\n",
        "\n",
        "Just simply run ProfileReport in 2 lines"
      ]
    },
    {
      "cell_type": "code",
      "execution_count": 7,
      "metadata": {
        "colab": {
          "base_uri": "https://localhost:8080/",
          "height": 917,
          "referenced_widgets": [
            "c1c3e6bb73a94812a46ffa9003c7a640",
            "279a9747c9d54b329ddc3249c2246dba",
            "6e106899f6b5404da2f9772f74baf17a",
            "c4249b59bdc9402aba7c05e51873d7fb",
            "28345969c64741dea2086e9cdc525c12",
            "1078d1f6a7a0407499c988d7b7a64b03",
            "f14b478effee4ebba6f573c4341db7fd",
            "dc6daca5b1284b5e88e2d23eb10b3a11",
            "6a7cff11df41408899cea411acd15873",
            "d93b59b8c9d34436a396ec288c5a5733",
            "6c893bd450ac44159765286d3a99ee80",
            "81adfa7b1d304f6ba5a02c2273e3fbf1",
            "d6c87f4901e040bea24b7884323abd7e",
            "4e96e8b512964aac8c3e56b13005ae90",
            "3dbd38f7f48048258ce319e7fce2a570",
            "3dcd8e7f0ea24107abec95180ea63ff0",
            "737ae5d02c284e3bad5becb18fb2849a",
            "93ae3da6075e4216a14ed6767ec45a2c",
            "68c2a53bf4164cf1954d2924963e8a69",
            "b3ec05ad1af74ee29e146041a61d47ee",
            "d53e2d782a9542a08c954a3e75cae663",
            "7daa616105694068ab49e72da66e2e94",
            "63d4092f80a44af6a15f2df7d855c583",
            "eafd072f925442959f2c0fe8a5cbd5d4",
            "db3b1cc3cc1b4bbb9427aa2f644f2546",
            "f5c69c9733b544c595e8982bb218e2af",
            "24445ca8a21942358609c2ca35c5abf2",
            "78ae7fb944a84cc7a5cc09ac2b349dca",
            "a94024f88d8840dc8269e2f8be85c6c2",
            "c3ece829b967441e913c785d44e5ae25",
            "8895ab946e08454ab4b2c311f4b80a37",
            "f70e2d865784427fada8db1c346bb56d",
            "800b1d748da344f0803e5144abb1ab3c"
          ]
        },
        "id": "e6BxZlzQD_oO",
        "outputId": "cece2ebb-987d-457c-a1f2-532ef862face"
      },
      "outputs": [
        {
          "data": {
            "application/vnd.jupyter.widget-view+json": {
              "model_id": "0bb83b27f1544d8b96971686943e2fdf",
              "version_major": 2,
              "version_minor": 0
            },
            "text/plain": [
              "Summarize dataset:   0%|          | 0/5 [00:00<?, ?it/s]"
            ]
          },
          "metadata": {},
          "output_type": "display_data"
        },
        {
          "data": {
            "application/vnd.jupyter.widget-view+json": {
              "model_id": "93b602d620884314980de2fa34c8b8ce",
              "version_major": 2,
              "version_minor": 0
            },
            "text/plain": [
              "Generate report structure:   0%|          | 0/1 [00:00<?, ?it/s]"
            ]
          },
          "metadata": {},
          "output_type": "display_data"
        },
        {
          "data": {
            "application/vnd.jupyter.widget-view+json": {
              "model_id": "1865b3e2a7af4520b8015cce5887f8d8",
              "version_major": 2,
              "version_minor": 0
            },
            "text/plain": [
              "Render widgets:   0%|          | 0/1 [00:00<?, ?it/s]"
            ]
          },
          "metadata": {},
          "output_type": "display_data"
        },
        {
          "data": {
            "application/vnd.jupyter.widget-view+json": {
              "model_id": "94bd4a402a314189b87d8b2e7d6086b3",
              "version_major": 2,
              "version_minor": 0
            },
            "text/plain": [
              "VBox(children=(Tab(children=(Tab(children=(GridBox(children=(VBox(children=(GridspecLayout(children=(HTML(valu…"
            ]
          },
          "metadata": {},
          "output_type": "display_data"
        }
      ],
      "source": [
        "################################################################################\n",
        "## TODO: Use profiler in 2 line and explore the data\n",
        "################################################################################\n",
        "profile = ProfileReport(df, title='Heart Risk Dataset Profile')\n",
        "profile.to_widgets()\n",
        "\n"
      ]
    },
    {
      "cell_type": "markdown",
      "metadata": {
        "id": "rQt-skmVMe-9"
      },
      "source": [
        "## Explore data by Panda ( 5pt )"
      ]
    },
    {
      "cell_type": "code",
      "execution_count": 8,
      "metadata": {
        "colab": {
          "base_uri": "https://localhost:8080/",
          "height": 909
        },
        "id": "WL1isCYEES4u",
        "outputId": "2faa9c70-46be-47ba-99ac-04d37dfa6ae3"
      },
      "outputs": [
        {
          "name": "stdout",
          "output_type": "stream",
          "text": [
            "shape of dataset is:  (1190, 12)\n",
            "age                    0\n",
            "sex                    0\n",
            "chest pain type        0\n",
            "resting bp s           0\n",
            "cholesterol            0\n",
            "fasting blood sugar    0\n",
            "resting ecg            0\n",
            "max heart rate         0\n",
            "exercise angina        0\n",
            "oldpeak                0\n",
            "ST slope               0\n",
            "target                 0\n",
            "dtype: int64\n",
            "this dataset has no missing entries.\n",
            "Positive Cases:  629\n",
            "Negative Cases:  561\n",
            "--------------------- Plots --------------------------\n"
          ]
        },
        {
          "data": {
            "image/png": "[encoded data removed]",
            "text/plain": [
              "<Figure size 640x480 with 1 Axes>"
            ]
          },
          "metadata": {},
          "output_type": "display_data"
        },
        {
          "data": {
            "image/png": "[encoded data removed]",
            "text/plain": [
              "<Figure size 640x480 with 1 Axes>"
            ]
          },
          "metadata": {},
          "output_type": "display_data"
        },
        {
          "data": {
            "image/png": "[encoded data removed]",
            "text/plain": [
              "<Figure size 640x480 with 1 Axes>"
            ]
          },
          "metadata": {},
          "output_type": "display_data"
        },
        {
          "data": {
            "image/png": "[encoded data removed]",
            "text/plain": [
              "<Figure size 640x480 with 1 Axes>"
            ]
          },
          "metadata": {},
          "output_type": "display_data"
        }
      ],
      "source": [
        "#############################################################################\n",
        "## TODO: Find the shape of the dataset.\n",
        "#############################################################################\n",
        "shape = df.shape\n",
        "print(\"shape of dataset is: \", shape)\n",
        "\n",
        "#############################################################################\n",
        "## TODO: Check if there are missing entries in the dataset columnwise.\n",
        "#############################################################################\n",
        "missing_entries = df.isnull().sum()\n",
        "print(missing_entries)\n",
        "if missing_entries.sum() == 0:\n",
        "    print(\"this dataset has no missing entries.\")\n",
        "else:\n",
        "    print(\"this dataset has\", missing_entries.sum(), \" missing entries.\")\n",
        "\n",
        "#############################################################################\n",
        "## TODO: Check number of positive and negative cases\n",
        "#############################################################################\n",
        "positive_cases = df[df['target'] == 1].shape[0]\n",
        "negative_cases = df[df['target'] == 0].shape[0] \n",
        "print(\"Positive Cases: \", positive_cases)\n",
        "print(\"Negative Cases: \", negative_cases)\n",
        "\n",
        "#############################################################################\n",
        "## TODO: plot  age distribution and gender distribution for both normal\n",
        "## and heart disease patients. (2*2 plots)\n",
        "#############################################################################\n",
        "print(\"--------------------- Plots --------------------------\")\n",
        "\n",
        "# first for normal (negative) patients\n",
        "normal_patients = df[df['target'] == 0]\n",
        "# now lets do the distribution for the age\n",
        "plt.hist(normal_patients['age'], bins=20, color='g', edgecolor='k')\n",
        "plt.title('Age Distribution for Normal Patients')\n",
        "plt.xlabel('Age')\n",
        "plt.ylabel('Frequency')\n",
        "plt.show()\n",
        "\n",
        "# gender distribution \n",
        "plt.hist(normal_patients['sex'], bins=2, color='b', edgecolor='k')\n",
        "plt.xticks(np.arange(0,2,1), labels=['Female', 'Male'])\n",
        "plt.title('Gender Distribution for Normal Patients')\n",
        "plt.xlabel('Gender')\n",
        "plt.ylabel('Frequency')\n",
        "plt.show()\n",
        "\n",
        "# now for the heart disease patients\n",
        "hd_patients = df[df['target'] == 1]\n",
        "# distribution for age\n",
        "plt.hist(hd_patients['age'], bins=20, color='r', edgecolor='k')\n",
        "plt.title('Gender Distribution for Heart Disease Patients')\n",
        "plt.xlabel('Age')\n",
        "plt.ylabel('Frequency')\n",
        "plt.show()\n",
        "\n",
        "# gender distribution \n",
        "plt.hist(hd_patients['sex'], bins=2, color='skyblue', edgecolor='k')\n",
        "plt.xticks(np.arange(0,2,1), labels=['Female', 'Male'])\n",
        "plt.title('Gender Distribution for Heart Disease Patients')\n",
        "plt.xlabel('Gender')\n",
        "plt.ylabel('Frequency')\n",
        "plt.show()\n"
      ]
    },
    {
      "cell_type": "markdown",
      "metadata": {
        "id": "LzO4dhCIE_Mk"
      },
      "source": [
        "## Split Data ( 2 pt )\n",
        "Before any action you should do this step to prevent from leak of data and using test data in your tunning pipeline"
      ]
    },
    {
      "cell_type": "code",
      "execution_count": 9,
      "metadata": {
        "colab": {
          "base_uri": "https://localhost:8080/",
          "height": 423
        },
        "id": "VWhwCofwFBxr",
        "outputId": "f4b5a362-d164-4499-9d4e-01465188866c"
      },
      "outputs": [],
      "source": [
        "from sklearn.model_selection import train_test_split\n",
        "#############################################################################\n",
        "## TODO: split dataframe into 4 dataframe X_train, X_test, y_train, y_test\n",
        "## test(30%) train(70%)\n",
        "# Assuming df is your DataFrame and 'target_column' is your target variable\n",
        "# Split the data into training and testing sets with 0.7 to 0.3 ratio\n",
        "#############################################################################\n",
        "X_train, X_test, y_train, y_test = train_test_split(df, df['target'], test_size=0.3)"
      ]
    },
    {
      "cell_type": "markdown",
      "metadata": {
        "id": "cP5nRjpAFW7g"
      },
      "source": [
        "## Feature Engineering:( 8 pt)\n",
        "Sometimes the collected data are raw; they are either incompatible with your model or hinders its performance. That’s when feature engineering comes to rescue. It encompasses preprocessing techniques to compile a dataset by extracting features from raw data."
      ]
    },
    {
      "cell_type": "code",
      "execution_count": 10,
      "metadata": {
        "colab": {
          "base_uri": "https://localhost:8080/"
        },
        "id": "s58wT56HFVJK",
        "outputId": "23996436-d196-4b1f-b427-e02de78b9734"
      },
      "outputs": [
        {
          "data": {
            "text/html": [
              "<div>\n",
              "<style scoped>\n",
              "    .dataframe tbody tr th:only-of-type {\n",
              "        vertical-align: middle;\n",
              "    }\n",
              "\n",
              "    .dataframe tbody tr th {\n",
              "        vertical-align: top;\n",
              "    }\n",
              "\n",
              "    .dataframe thead th {\n",
              "        text-align: right;\n",
              "    }\n",
              "</style>\n",
              "<table border=\"1\" class=\"dataframe\">\n",
              "  <thead>\n",
              "    <tr style=\"text-align: right;\">\n",
              "      <th></th>\n",
              "      <th>age</th>\n",
              "      <th>sex</th>\n",
              "      <th>chest pain type</th>\n",
              "      <th>resting bp s</th>\n",
              "      <th>cholesterol</th>\n",
              "      <th>fasting blood sugar</th>\n",
              "      <th>resting ecg</th>\n",
              "      <th>max heart rate</th>\n",
              "      <th>exercise angina</th>\n",
              "      <th>oldpeak</th>\n",
              "      <th>ST slope</th>\n",
              "      <th>target</th>\n",
              "    </tr>\n",
              "  </thead>\n",
              "  <tbody>\n",
              "    <tr>\n",
              "      <th>459</th>\n",
              "      <td>0.752667</td>\n",
              "      <td>1</td>\n",
              "      <td>4</td>\n",
              "      <td>0.081348</td>\n",
              "      <td>-2.077685</td>\n",
              "      <td>1</td>\n",
              "      <td>1</td>\n",
              "      <td>-2.137122</td>\n",
              "      <td>0</td>\n",
              "      <td>0.514985</td>\n",
              "      <td>2</td>\n",
              "      <td>1</td>\n",
              "    </tr>\n",
              "    <tr>\n",
              "      <th>6</th>\n",
              "      <td>-0.947884</td>\n",
              "      <td>0</td>\n",
              "      <td>2</td>\n",
              "      <td>-0.142476</td>\n",
              "      <td>0.248197</td>\n",
              "      <td>0</td>\n",
              "      <td>0</td>\n",
              "      <td>1.239079</td>\n",
              "      <td>0</td>\n",
              "      <td>-0.835433</td>\n",
              "      <td>1</td>\n",
              "      <td>0</td>\n",
              "    </tr>\n",
              "    <tr>\n",
              "      <th>785</th>\n",
              "      <td>-0.947884</td>\n",
              "      <td>0</td>\n",
              "      <td>4</td>\n",
              "      <td>0.305172</td>\n",
              "      <td>0.238384</td>\n",
              "      <td>0</td>\n",
              "      <td>2</td>\n",
              "      <td>0.515607</td>\n",
              "      <td>1</td>\n",
              "      <td>-0.655377</td>\n",
              "      <td>2</td>\n",
              "      <td>0</td>\n",
              "    </tr>\n",
              "    <tr>\n",
              "      <th>342</th>\n",
              "      <td>1.071520</td>\n",
              "      <td>1</td>\n",
              "      <td>4</td>\n",
              "      <td>-1.261597</td>\n",
              "      <td>-2.077685</td>\n",
              "      <td>1</td>\n",
              "      <td>0</td>\n",
              "      <td>-1.011722</td>\n",
              "      <td>1</td>\n",
              "      <td>0.334930</td>\n",
              "      <td>3</td>\n",
              "      <td>1</td>\n",
              "    </tr>\n",
              "    <tr>\n",
              "      <th>699</th>\n",
              "      <td>0.433814</td>\n",
              "      <td>1</td>\n",
              "      <td>4</td>\n",
              "      <td>0.976645</td>\n",
              "      <td>0.572054</td>\n",
              "      <td>0</td>\n",
              "      <td>2</td>\n",
              "      <td>-1.132300</td>\n",
              "      <td>1</td>\n",
              "      <td>-0.115210</td>\n",
              "      <td>1</td>\n",
              "      <td>1</td>\n",
              "    </tr>\n",
              "  </tbody>\n",
              "</table>\n",
              "</div>"
            ],
            "text/plain": [
              "          age  sex  chest pain type  resting bp s  cholesterol  \\\n",
              "459  0.752667    1                4      0.081348    -2.077685   \n",
              "6   -0.947884    0                2     -0.142476     0.248197   \n",
              "785 -0.947884    0                4      0.305172     0.238384   \n",
              "342  1.071520    1                4     -1.261597    -2.077685   \n",
              "699  0.433814    1                4      0.976645     0.572054   \n",
              "\n",
              "     fasting blood sugar  resting ecg  max heart rate  exercise angina  \\\n",
              "459                    1            1       -2.137122                0   \n",
              "6                      0            0        1.239079                0   \n",
              "785                    0            2        0.515607                1   \n",
              "342                    1            0       -1.011722                1   \n",
              "699                    0            2       -1.132300                1   \n",
              "\n",
              "      oldpeak  ST slope  target  \n",
              "459  0.514985         2       1  \n",
              "6   -0.835433         1       0  \n",
              "785 -0.655377         2       0  \n",
              "342  0.334930         3       1  \n",
              "699 -0.115210         1       1  "
            ]
          },
          "execution_count": 10,
          "metadata": {},
          "output_type": "execute_result"
        }
      ],
      "source": [
        "from sklearn.preprocessing import StandardScaler\n",
        "#############################################################################\n",
        "## TODO: Normalize numerical features\n",
        "## Note that just numerical fetures should be normalized.\n",
        "## Type of features is determined in dataset description file.\n",
        "# Create a StandardScaler instance\n",
        "# Fit to numerical columns of train and transform test and train based on this\n",
        "## Warning:\n",
        "## You can't fit your Scaler on whole data. Fit should be just on Train data.\n",
        "# Print the first few rows to check the result\n",
        "#############################################################################\n",
        "\n",
        "# our dataset contains numerical and nominal data. Thus we need to grab the features that are strictly numerical.\n",
        "numerical_cols = ['age', 'resting bp s', 'cholesterol', 'max heart rate','oldpeak'] \n",
        "scalar = StandardScaler()\n",
        "X_train[numerical_cols] = scalar.fit_transform(X_train[numerical_cols])\n",
        "X_test[numerical_cols] = scalar.transform(X_test[numerical_cols])\n",
        "X_train.head()\n",
        "\n",
        "\n",
        "#############################################################################\n",
        "## TODO: just comment name of 2 other scaler form sklearn and write one paragraph for each:\n",
        "## Your Comment:\n",
        "# 1. MinMaxScaler:\n",
        "# This scaler transforms features by scaling to a specific range. Essentially, each feature gets\n",
        "# transformed so that it ends up between a specific min and max of a range (usually 0 and 1). This approach is verys straightforward,\n",
        "# and beneficial for algorithms that are sensitive to the scale of data\n",
        "# 2. RobustScaler:\n",
        "# This scaler helps improve the datasets so that they are more robust to outliers. It uses the median and interquartile range to basically ignore\n",
        "# data that is outside the typical range of data. It still preserves the distribution of data instead of compressing the range of the data. Best  \n",
        "# used for datasets with a normal distribution. \n",
        "##################################################################################\n"
      ]
    },
    {
      "cell_type": "markdown",
      "metadata": {
        "id": "eJJ3YUD5FrWw"
      },
      "source": [
        "### plot correlations ( 2 pt)"
      ]
    },
    {
      "cell_type": "code",
      "execution_count": 11,
      "metadata": {
        "colab": {
          "base_uri": "https://localhost:8080/",
          "height": 820
        },
        "id": "snzuqNeiFnPJ",
        "outputId": "5ff8da63-d05a-4cda-9926-ef6f38aa8eeb"
      },
      "outputs": [
        {
          "data": {
            "image/png": "[encoded data removed]",
            "text/plain": [
              "<Figure size 640x480 with 2 Axes>"
            ]
          },
          "metadata": {},
          "output_type": "display_data"
        }
      ],
      "source": [
        "#############################################################################\n",
        "## TODO: Make a temp dataframe with X_train and y_train.\n",
        "## plot correlation between all features\n",
        "#############################################################################\n",
        "temp_df = X_train.copy()\n",
        "temp_df['target'] = y_train.values\n",
        "corr = temp_df.corr(\"kendall\")\n",
        "sns.heatmap(corr, annot=True, annot_kws={\"size\":5}, fmt=\".2f\")\n",
        "plt.title('Heart Disease Feature Correlation')\n",
        "plt.show()\n",
        "\n",
        "\n"
      ]
    },
    {
      "cell_type": "markdown",
      "metadata": {
        "id": "4cxw5zDDFuBu"
      },
      "source": [
        "## Define a classification report function ( 3 pt)\n"
      ]
    },
    {
      "cell_type": "code",
      "execution_count": 12,
      "metadata": {
        "colab": {
          "base_uri": "https://localhost:8080/"
        },
        "id": "HfSPnMarFo2j",
        "outputId": "b56b1b6a-6a28-4303-8f86-32ee39c4f050"
      },
      "outputs": [
        {
          "name": "stdout",
          "output_type": "stream",
          "text": [
            "{'Accuracy:': 1.0, 'Precision:': 1.0, 'Recall:': 1.0, 'F1score:': 1.0, 'FNR:': 0.0}\n",
            "{'Accuracy:': 0.25, 'Precision:': 0.3333333333333333, 'Recall:': 0.5, 'F1score:': 0.4, 'FNR:': 0.5}\n"
          ]
        }
      ],
      "source": [
        "#############################################################################\n",
        "## TODO: Complete this function by considering function description\n",
        "## Note: write every thing from scatch with python or numpy operators\n",
        "#############################################################################\n",
        "\n",
        "def classification_report(y_true, y_pred):\n",
        "    \"\"\"\n",
        "    Calculate classification metrics based on true and predicted labels.\n",
        "\n",
        "    Parameters:\n",
        "    - y_true: Array of true labels (0 or 1).\n",
        "    - y_pred: Array of predicted labels (0 or 1).\n",
        "\n",
        "    Returns:\n",
        "    - Accuracy: Ratio of correct predictions to total samples.\n",
        "    - Precision: Accuracy of positive predictions among all predicted positives.\n",
        "    - Recall: Ability to capture actual positives among all actual positives.\n",
        "    - F1 Score: Harmonic mean of precision and recall, balancing both metrics.\n",
        "    - FNR: Proportion of actual positives incorrectly predicted as negatives.\n",
        "    \"\"\"\n",
        "\n",
        "################### Complete this part###############################\n",
        "    \n",
        "\n",
        "    correct_pred = 0\n",
        "    positive_pred = 0\n",
        "    positive_pred_match = 0\n",
        "    actual_positive = 0\n",
        "    false_negatives = 0\n",
        "    \n",
        "    # we will do all checks within the same loop for space optimization\n",
        "    for i in range(len(y_true)):\n",
        "        if y_true[i] == y_pred[i]:\n",
        "            correct_pred += 1\n",
        "            if y_true[i] == 1 and y_pred[i] == 1:\n",
        "                positive_pred_match += 1\n",
        "        if y_pred[i] == 1:\n",
        "            positive_pred += 1\n",
        "        if y_true[i] == 1:\n",
        "            actual_positive += 1\n",
        "        if y_true[i] == 1 and y_pred[i] == 0:\n",
        "            false_negatives += 1\n",
        "    \n",
        "    Accuracy = correct_pred / len(y_true)\n",
        "    Precision = positive_pred_match / positive_pred\n",
        "    Recall = positive_pred_match / actual_positive\n",
        "\n",
        "    # since everything needs to be programmed raw, the formula for F1 score is:\n",
        "    # F1 = (2 * precision * recall) / (precision + recall)\n",
        "    F1score = (2 * Precision * Recall)/(Precision + Recall)\n",
        "\n",
        "    # FNR is examining false negatives. Here, we divide false negatives by total positives\n",
        "    FNR = false_negatives / actual_positive\n",
        "\n",
        "####################################################################\n",
        "\n",
        "\n",
        "    result = {\n",
        "        'Accuracy:' : Accuracy,\n",
        "        'Precision:' : Precision,\n",
        "        'Recall:' : Recall,\n",
        "        'F1score:': F1score,\n",
        "        'FNR:': FNR\n",
        "\n",
        "    }\n",
        "\n",
        "    return result\n",
        "\n",
        "\n",
        "# Test function\n",
        "\n",
        "\n",
        "\n",
        "\n",
        "\n",
        "# Test Case 1: Perfect predictions\n",
        "y_true_1 = [1, 0, 1, 0]\n",
        "y_pred_1 = [1, 0, 1, 0]\n",
        "result_1 = classification_report(y_true_1, y_pred_1)\n",
        "print(result_1)\n",
        "\n",
        "\n",
        "# Test Case 2: Imperfect predictions\n",
        "y_true_2 = [1, 0, 1, 0]\n",
        "y_pred_2 = [0, 1, 1, 1]\n",
        "\n",
        "result_2 = classification_report(y_true_2, y_pred_2)\n",
        "print(result_2)\n",
        "\n",
        "\n",
        "\n"
      ]
    },
    {
      "cell_type": "markdown",
      "metadata": {
        "id": "eP8VHtEIGJTg"
      },
      "source": [
        "## Model Traning"
      ]
    },
    {
      "cell_type": "markdown",
      "metadata": {
        "id": "2jiMcTVYGM_0"
      },
      "source": [
        "### Covert data to numpy ( 2 pt)"
      ]
    },
    {
      "cell_type": "code",
      "execution_count": 13,
      "metadata": {
        "id": "i4lDQQ0ZGQrh"
      },
      "outputs": [],
      "source": [
        "#############################################################################\n",
        "## TODO: convert X_train, X_test, y_train, y_test to numpy array\n",
        "#############################################################################\n",
        "\n",
        "X_train_np = np.array(X_train)\n",
        "X_test_np = np.array(X_test)\n",
        "y_train_np = np.array(y_train)\n",
        "y_test_np = np.array(y_test)"
      ]
    },
    {
      "cell_type": "markdown",
      "metadata": {
        "id": "e2NsmYPTGWaZ"
      },
      "source": [
        "### Train Logistic Regression ( 5pt)"
      ]
    },
    {
      "cell_type": "code",
      "execution_count": 14,
      "metadata": {
        "colab": {
          "base_uri": "https://localhost:8080/",
          "height": 274
        },
        "id": "TqKtVZ6FGVZg",
        "outputId": "515701da-3c66-4243-b8b9-9b4faedfa0fa"
      },
      "outputs": [
        {
          "name": "stdout",
          "output_type": "stream",
          "text": [
            "{'Accuracy:': 1.0, 'Precision:': 1.0, 'Recall:': 1.0, 'F1score:': 1.0, 'FNR:': 0.0}\n"
          ]
        },
        {
          "data": {
            "text/plain": [
              "Text(50.722222222222214, 0.5, 'Actual')"
            ]
          },
          "execution_count": 14,
          "metadata": {},
          "output_type": "execute_result"
        },
        {
          "data": {
            "image/png": "[encoded data removed]",
            "text/plain": [
              "<Figure size 640x480 with 2 Axes>"
            ]
          },
          "metadata": {},
          "output_type": "display_data"
        }
      ],
      "source": [
        "from sklearn.linear_model import LogisticRegression\n",
        "from sklearn.metrics import confusion_matrix\n",
        "#############################################################################\n",
        "## TODO: Train a Logistic Regression Model and test your model.\n",
        "## give a test report from test result by above classification_report function\n",
        "## Plot the confusion matrix using seaborn\n",
        "#############################################################################\n",
        "log_reg = LogisticRegression()\n",
        "log_reg.fit(X_train_np, y_train_np)\n",
        "y_pred_lr = log_reg.predict(X_test_np)\n",
        "\n",
        "# now the classification_report\n",
        "lr_result = classification_report(y_test_np, y_pred_lr)\n",
        "print(lr_result)\n",
        "\n",
        "# the confusion matrix\n",
        "lr_conf = confusion_matrix(y_test_np, y_pred_lr)\n",
        "sns.heatmap(lr_conf, annot=True, fmt='d', cmap='Blues')\n",
        "plt.title('Confusion Matrix - Logistic Regression')\n",
        "plt.xlabel('Predicted')\n",
        "plt.ylabel('Actual')\n"
      ]
    },
    {
      "cell_type": "markdown",
      "metadata": {
        "id": "F03mp11pGcMD"
      },
      "source": [
        "### Train KNN ( 5pt)"
      ]
    },
    {
      "cell_type": "code",
      "execution_count": 15,
      "metadata": {
        "colab": {
          "base_uri": "https://localhost:8080/",
          "height": 274
        },
        "id": "qR87zZWXGdvF",
        "outputId": "26b58936-9477-41df-86fd-36d5b0dc7dcd"
      },
      "outputs": [
        {
          "name": "stdout",
          "output_type": "stream",
          "text": [
            "{'Accuracy:': 0.927170868347339, 'Precision:': 0.9090909090909091, 'Recall:': 0.9497206703910615, 'F1score:': 0.9289617486338797, 'FNR:': 0.05027932960893855}\n"
          ]
        },
        {
          "data": {
            "text/plain": [
              "Text(50.722222222222214, 0.5, 'Actual')"
            ]
          },
          "execution_count": 15,
          "metadata": {},
          "output_type": "execute_result"
        },
        {
          "data": {
            "image/png": "[encoded data removed]",
            "text/plain": [
              "<Figure size 640x480 with 2 Axes>"
            ]
          },
          "metadata": {},
          "output_type": "display_data"
        }
      ],
      "source": [
        "from sklearn.neighbors import KNeighborsClassifier\n",
        "from sklearn.metrics import confusion_matrix\n",
        "\n",
        "#############################################################################\n",
        "## TODO: Train a KNN Model and test your model.\n",
        "## give a test report from test result by above classification_report function\n",
        "## plot confusion matrix\n",
        "#############################################################################\n",
        "knn = KNeighborsClassifier()\n",
        "knn.fit(X_train_np, y_train_np)\n",
        "y_pred_knn = knn.predict(X_test_np)\n",
        "\n",
        "print(classification_report(y_test_np, y_pred_knn))\n",
        "\n",
        "knn_conf = confusion_matrix(y_test_np, y_pred_knn)\n",
        "sns.heatmap(knn_conf, annot=True, fmt='d', cmap='Blues')\n",
        "plt.title('Confusion Matrix - K-Nearest Neighbours')\n",
        "plt.xlabel('Predicted')\n",
        "plt.ylabel('Actual')\n",
        "\n"
      ]
    },
    {
      "cell_type": "markdown",
      "metadata": {
        "id": "owIaOR4mGhJY"
      },
      "source": [
        "### Train a safer model ( 3pt)\n",
        "\n",
        "To make sure our model doesn't make dangerous mistakes, like saying a high-risk patient is healthy, we can use the class_weight option in LogisticRegression(). If the model wrongly thinks a healthy person is high-risk, it's not as big of a problem and doctors will check it!"
      ]
    },
    {
      "cell_type": "code",
      "execution_count": 16,
      "metadata": {
        "colab": {
          "base_uri": "https://localhost:8080/",
          "height": 274
        },
        "id": "L8i4EyyqGjJd",
        "outputId": "56d2dfff-c437-4197-c28e-0325f31c4e85"
      },
      "outputs": [
        {
          "name": "stdout",
          "output_type": "stream",
          "text": [
            "{'Accuracy:': 1.0, 'Precision:': 1.0, 'Recall:': 1.0, 'F1score:': 1.0, 'FNR:': 0.0}\n"
          ]
        },
        {
          "data": {
            "text/plain": [
              "Text(50.722222222222214, 0.5, 'Actual')"
            ]
          },
          "execution_count": 16,
          "metadata": {},
          "output_type": "execute_result"
        },
        {
          "data": {
            "image/png": "[encoded data removed]",
            "text/plain": [
              "<Figure size 640x480 with 2 Axes>"
            ]
          },
          "metadata": {},
          "output_type": "display_data"
        }
      ],
      "source": [
        "#############################################################################\n",
        "## TODO: create a safer model with class_weight use your owen weight result is not important\n",
        "## plot confusion matrix\n",
        "#############################################################################\n",
        "from sklearn.linear_model import LogisticRegression\n",
        "from sklearn.metrics import confusion_matrix,accuracy_score,roc_curve\n",
        "weighted_model = LogisticRegression(class_weight='balanced')\n",
        "weighted_model.fit(X_train_np, y_train_np)\n",
        "y_pred_safe = weighted_model.predict(X_test_np)\n",
        "\n",
        "print(classification_report(y_test_np, y_pred_safe))\n",
        "\n",
        "safe_conf = confusion_matrix(y_test_np, y_pred_safe)\n",
        "sns.heatmap(safe_conf, annot=True, fmt='d', cmap='Blues')\n",
        "plt.title('Confusion Matrix - Safe Logistic Regression')\n",
        "plt.xlabel('Predicted')\n",
        "plt.ylabel('Actual')\n",
        "\n",
        "\n",
        "\n",
        "\n",
        "\n"
      ]
    },
    {
      "cell_type": "markdown",
      "metadata": {
        "id": "QD8D4vC1GkGV"
      },
      "source": [
        "### Cross Validation Score ( 5pt)"
      ]
    },
    {
      "cell_type": "code",
      "execution_count": 17,
      "metadata": {
        "colab": {
          "base_uri": "https://localhost:8080/"
        },
        "id": "C4Wf9LsaGnNs",
        "outputId": "8c337237-cc8b-499c-dc16-d481f9262968"
      },
      "outputs": [
        {
          "name": "stdout",
          "output_type": "stream",
          "text": [
            "KNN Acc:  0.9299687010954617\n",
            "KNN Recall:  0.9300225922516944\n"
          ]
        }
      ],
      "source": [
        "from sklearn.model_selection import cross_validate\n",
        "#############################################################################\n",
        "## TODO: research  about \"K-Fold cross validation\"\n",
        "## cross validate your KNN model to evaluate your model better\n",
        "## use accuracy and recall to report cross validation results\n",
        "#############################################################################\n",
        "\n",
        "scoring = ['accuracy', 'recall_macro']\n",
        "\n",
        "cv_res = cross_validate(knn, X_test_np, y_pred_knn, cv=5, scoring=scoring)\n",
        "\n",
        "print(\"KNN Acc: \", cv_res['test_accuracy'].mean())\n",
        "print(\"KNN Recall: \", cv_res['test_recall_macro'].mean())\n",
        "\n",
        "\n",
        "\n"
      ]
    },
    {
      "cell_type": "markdown",
      "metadata": {
        "id": "bNjW6P1CGxOY"
      },
      "source": [
        "### Hyperparameter Tuning Using GridSearchCV ( 5pt)"
      ]
    },
    {
      "cell_type": "code",
      "execution_count": 18,
      "metadata": {
        "id": "7IH5AKHkGwSp"
      },
      "outputs": [
        {
          "data": {
            "text/html": [
              "<style>#sk-container-id-1 {\n",
              "  /* Definition of color scheme common for light and dark mode */\n",
              "  --sklearn-color-text: black;\n",
              "  --sklearn-color-line: gray;\n",
              "  /* Definition of color scheme for unfitted estimators */\n",
              "  --sklearn-color-unfitted-level-0: #fff5e6;\n",
              "  --sklearn-color-unfitted-level-1: #f6e4d2;\n",
              "  --sklearn-color-unfitted-level-2: #ffe0b3;\n",
              "  --sklearn-color-unfitted-level-3: chocolate;\n",
              "  /* Definition of color scheme for fitted estimators */\n",
              "  --sklearn-color-fitted-level-0: #f0f8ff;\n",
              "  --sklearn-color-fitted-level-1: #d4ebff;\n",
              "  --sklearn-color-fitted-level-2: #b3dbfd;\n",
              "  --sklearn-color-fitted-level-3: cornflowerblue;\n",
              "\n",
              "  /* Specific color for light theme */\n",
              "  --sklearn-color-text-on-default-background: var(--sg-text-color, var(--theme-code-foreground, var(--jp-content-font-color1, black)));\n",
              "  --sklearn-color-background: var(--sg-background-color, var(--theme-background, var(--jp-layout-color0, white)));\n",
              "  --sklearn-color-border-box: var(--sg-text-color, var(--theme-code-foreground, var(--jp-content-font-color1, black)));\n",
              "  --sklearn-color-icon: #696969;\n",
              "\n",
              "  @media (prefers-color-scheme: dark) {\n",
              "    /* Redefinition of color scheme for dark theme */\n",
              "    --sklearn-color-text-on-default-background: var(--sg-text-color, var(--theme-code-foreground, var(--jp-content-font-color1, white)));\n",
              "    --sklearn-color-background: var(--sg-background-color, var(--theme-background, var(--jp-layout-color0, #111)));\n",
              "    --sklearn-color-border-box: var(--sg-text-color, var(--theme-code-foreground, var(--jp-content-font-color1, white)));\n",
              "    --sklearn-color-icon: #878787;\n",
              "  }\n",
              "}\n",
              "\n",
              "#sk-container-id-1 {\n",
              "  color: var(--sklearn-color-text);\n",
              "}\n",
              "\n",
              "#sk-container-id-1 pre {\n",
              "  padding: 0;\n",
              "}\n",
              "\n",
              "#sk-container-id-1 input.sk-hidden--visually {\n",
              "  border: 0;\n",
              "  clip: rect(1px 1px 1px 1px);\n",
              "  clip: rect(1px, 1px, 1px, 1px);\n",
              "  height: 1px;\n",
              "  margin: -1px;\n",
              "  overflow: hidden;\n",
              "  padding: 0;\n",
              "  position: absolute;\n",
              "  width: 1px;\n",
              "}\n",
              "\n",
              "#sk-container-id-1 div.sk-dashed-wrapped {\n",
              "  border: 1px dashed var(--sklearn-color-line);\n",
              "  margin: 0 0.4em 0.5em 0.4em;\n",
              "  box-sizing: border-box;\n",
              "  padding-bottom: 0.4em;\n",
              "  background-color: var(--sklearn-color-background);\n",
              "}\n",
              "\n",
              "#sk-container-id-1 div.sk-container {\n",
              "  /* jupyter's `normalize.less` sets `[hidden] { display: none; }`\n",
              "     but bootstrap.min.css set `[hidden] { display: none !important; }`\n",
              "     so we also need the `!important` here to be able to override the\n",
              "     default hidden behavior on the sphinx rendered scikit-learn.org.\n",
              "     See: https://github.com/scikit-learn/scikit-learn/issues/21755 */\n",
              "  display: inline-block !important;\n",
              "  position: relative;\n",
              "}\n",
              "\n",
              "#sk-container-id-1 div.sk-text-repr-fallback {\n",
              "  display: none;\n",
              "}\n",
              "\n",
              "div.sk-parallel-item,\n",
              "div.sk-serial,\n",
              "div.sk-item {\n",
              "  /* draw centered vertical line to link estimators */\n",
              "  background-image: linear-gradient(var(--sklearn-color-text-on-default-background), var(--sklearn-color-text-on-default-background));\n",
              "  background-size: 2px 100%;\n",
              "  background-repeat: no-repeat;\n",
              "  background-position: center center;\n",
              "}\n",
              "\n",
              "/* Parallel-specific style estimator block */\n",
              "\n",
              "#sk-container-id-1 div.sk-parallel-item::after {\n",
              "  content: \"\";\n",
              "  width: 100%;\n",
              "  border-bottom: 2px solid var(--sklearn-color-text-on-default-background);\n",
              "  flex-grow: 1;\n",
              "}\n",
              "\n",
              "#sk-container-id-1 div.sk-parallel {\n",
              "  display: flex;\n",
              "  align-items: stretch;\n",
              "  justify-content: center;\n",
              "  background-color: var(--sklearn-color-background);\n",
              "  position: relative;\n",
              "}\n",
              "\n",
              "#sk-container-id-1 div.sk-parallel-item {\n",
              "  display: flex;\n",
              "  flex-direction: column;\n",
              "}\n",
              "\n",
              "#sk-container-id-1 div.sk-parallel-item:first-child::after {\n",
              "  align-self: flex-end;\n",
              "  width: 50%;\n",
              "}\n",
              "\n",
              "#sk-container-id-1 div.sk-parallel-item:last-child::after {\n",
              "  align-self: flex-start;\n",
              "  width: 50%;\n",
              "}\n",
              "\n",
              "#sk-container-id-1 div.sk-parallel-item:only-child::after {\n",
              "  width: 0;\n",
              "}\n",
              "\n",
              "/* Serial-specific style estimator block */\n",
              "\n",
              "#sk-container-id-1 div.sk-serial {\n",
              "  display: flex;\n",
              "  flex-direction: column;\n",
              "  align-items: center;\n",
              "  background-color: var(--sklearn-color-background);\n",
              "  padding-right: 1em;\n",
              "  padding-left: 1em;\n",
              "}\n",
              "\n",
              "\n",
              "/* Toggleable style: style used for estimator/Pipeline/ColumnTransformer box that is\n",
              "clickable and can be expanded/collapsed.\n",
              "- Pipeline and ColumnTransformer use this feature and define the default style\n",
              "- Estimators will overwrite some part of the style using the `sk-estimator` class\n",
              "*/\n",
              "\n",
              "/* Pipeline and ColumnTransformer style (default) */\n",
              "\n",
              "#sk-container-id-1 div.sk-toggleable {\n",
              "  /* Default theme specific background. It is overwritten whether we have a\n",
              "  specific estimator or a Pipeline/ColumnTransformer */\n",
              "  background-color: var(--sklearn-color-background);\n",
              "}\n",
              "\n",
              "/* Toggleable label */\n",
              "#sk-container-id-1 label.sk-toggleable__label {\n",
              "  cursor: pointer;\n",
              "  display: block;\n",
              "  width: 100%;\n",
              "  margin-bottom: 0;\n",
              "  padding: 0.5em;\n",
              "  box-sizing: border-box;\n",
              "  text-align: center;\n",
              "}\n",
              "\n",
              "#sk-container-id-1 label.sk-toggleable__label-arrow:before {\n",
              "  /* Arrow on the left of the label */\n",
              "  content: \"▸\";\n",
              "  float: left;\n",
              "  margin-right: 0.25em;\n",
              "  color: var(--sklearn-color-icon);\n",
              "}\n",
              "\n",
              "#sk-container-id-1 label.sk-toggleable__label-arrow:hover:before {\n",
              "  color: var(--sklearn-color-text);\n",
              "}\n",
              "\n",
              "/* Toggleable content - dropdown */\n",
              "\n",
              "#sk-container-id-1 div.sk-toggleable__content {\n",
              "  max-height: 0;\n",
              "  max-width: 0;\n",
              "  overflow: hidden;\n",
              "  text-align: left;\n",
              "  /* unfitted */\n",
              "  background-color: var(--sklearn-color-unfitted-level-0);\n",
              "}\n",
              "\n",
              "#sk-container-id-1 div.sk-toggleable__content.fitted {\n",
              "  /* fitted */\n",
              "  background-color: var(--sklearn-color-fitted-level-0);\n",
              "}\n",
              "\n",
              "#sk-container-id-1 div.sk-toggleable__content pre {\n",
              "  margin: 0.2em;\n",
              "  border-radius: 0.25em;\n",
              "  color: var(--sklearn-color-text);\n",
              "  /* unfitted */\n",
              "  background-color: var(--sklearn-color-unfitted-level-0);\n",
              "}\n",
              "\n",
              "#sk-container-id-1 div.sk-toggleable__content.fitted pre {\n",
              "  /* unfitted */\n",
              "  background-color: var(--sklearn-color-fitted-level-0);\n",
              "}\n",
              "\n",
              "#sk-container-id-1 input.sk-toggleable__control:checked~div.sk-toggleable__content {\n",
              "  /* Expand drop-down */\n",
              "  max-height: 200px;\n",
              "  max-width: 100%;\n",
              "  overflow: auto;\n",
              "}\n",
              "\n",
              "#sk-container-id-1 input.sk-toggleable__control:checked~label.sk-toggleable__label-arrow:before {\n",
              "  content: \"▾\";\n",
              "}\n",
              "\n",
              "/* Pipeline/ColumnTransformer-specific style */\n",
              "\n",
              "#sk-container-id-1 div.sk-label input.sk-toggleable__control:checked~label.sk-toggleable__label {\n",
              "  color: var(--sklearn-color-text);\n",
              "  background-color: var(--sklearn-color-unfitted-level-2);\n",
              "}\n",
              "\n",
              "#sk-container-id-1 div.sk-label.fitted input.sk-toggleable__control:checked~label.sk-toggleable__label {\n",
              "  background-color: var(--sklearn-color-fitted-level-2);\n",
              "}\n",
              "\n",
              "/* Estimator-specific style */\n",
              "\n",
              "/* Colorize estimator box */\n",
              "#sk-container-id-1 div.sk-estimator input.sk-toggleable__control:checked~label.sk-toggleable__label {\n",
              "  /* unfitted */\n",
              "  background-color: var(--sklearn-color-unfitted-level-2);\n",
              "}\n",
              "\n",
              "#sk-container-id-1 div.sk-estimator.fitted input.sk-toggleable__control:checked~label.sk-toggleable__label {\n",
              "  /* fitted */\n",
              "  background-color: var(--sklearn-color-fitted-level-2);\n",
              "}\n",
              "\n",
              "#sk-container-id-1 div.sk-label label.sk-toggleable__label,\n",
              "#sk-container-id-1 div.sk-label label {\n",
              "  /* The background is the default theme color */\n",
              "  color: var(--sklearn-color-text-on-default-background);\n",
              "}\n",
              "\n",
              "/* On hover, darken the color of the background */\n",
              "#sk-container-id-1 div.sk-label:hover label.sk-toggleable__label {\n",
              "  color: var(--sklearn-color-text);\n",
              "  background-color: var(--sklearn-color-unfitted-level-2);\n",
              "}\n",
              "\n",
              "/* Label box, darken color on hover, fitted */\n",
              "#sk-container-id-1 div.sk-label.fitted:hover label.sk-toggleable__label.fitted {\n",
              "  color: var(--sklearn-color-text);\n",
              "  background-color: var(--sklearn-color-fitted-level-2);\n",
              "}\n",
              "\n",
              "/* Estimator label */\n",
              "\n",
              "#sk-container-id-1 div.sk-label label {\n",
              "  font-family: monospace;\n",
              "  font-weight: bold;\n",
              "  display: inline-block;\n",
              "  line-height: 1.2em;\n",
              "}\n",
              "\n",
              "#sk-container-id-1 div.sk-label-container {\n",
              "  text-align: center;\n",
              "}\n",
              "\n",
              "/* Estimator-specific */\n",
              "#sk-container-id-1 div.sk-estimator {\n",
              "  font-family: monospace;\n",
              "  border: 1px dotted var(--sklearn-color-border-box);\n",
              "  border-radius: 0.25em;\n",
              "  box-sizing: border-box;\n",
              "  margin-bottom: 0.5em;\n",
              "  /* unfitted */\n",
              "  background-color: var(--sklearn-color-unfitted-level-0);\n",
              "}\n",
              "\n",
              "#sk-container-id-1 div.sk-estimator.fitted {\n",
              "  /* fitted */\n",
              "  background-color: var(--sklearn-color-fitted-level-0);\n",
              "}\n",
              "\n",
              "/* on hover */\n",
              "#sk-container-id-1 div.sk-estimator:hover {\n",
              "  /* unfitted */\n",
              "  background-color: var(--sklearn-color-unfitted-level-2);\n",
              "}\n",
              "\n",
              "#sk-container-id-1 div.sk-estimator.fitted:hover {\n",
              "  /* fitted */\n",
              "  background-color: var(--sklearn-color-fitted-level-2);\n",
              "}\n",
              "\n",
              "/* Specification for estimator info (e.g. \"i\" and \"?\") */\n",
              "\n",
              "/* Common style for \"i\" and \"?\" */\n",
              "\n",
              ".sk-estimator-doc-link,\n",
              "a:link.sk-estimator-doc-link,\n",
              "a:visited.sk-estimator-doc-link {\n",
              "  float: right;\n",
              "  font-size: smaller;\n",
              "  line-height: 1em;\n",
              "  font-family: monospace;\n",
              "  background-color: var(--sklearn-color-background);\n",
              "  border-radius: 1em;\n",
              "  height: 1em;\n",
              "  width: 1em;\n",
              "  text-decoration: none !important;\n",
              "  margin-left: 1ex;\n",
              "  /* unfitted */\n",
              "  border: var(--sklearn-color-unfitted-level-1) 1pt solid;\n",
              "  color: var(--sklearn-color-unfitted-level-1);\n",
              "}\n",
              "\n",
              ".sk-estimator-doc-link.fitted,\n",
              "a:link.sk-estimator-doc-link.fitted,\n",
              "a:visited.sk-estimator-doc-link.fitted {\n",
              "  /* fitted */\n",
              "  border: var(--sklearn-color-fitted-level-1) 1pt solid;\n",
              "  color: var(--sklearn-color-fitted-level-1);\n",
              "}\n",
              "\n",
              "/* On hover */\n",
              "div.sk-estimator:hover .sk-estimator-doc-link:hover,\n",
              ".sk-estimator-doc-link:hover,\n",
              "div.sk-label-container:hover .sk-estimator-doc-link:hover,\n",
              ".sk-estimator-doc-link:hover {\n",
              "  /* unfitted */\n",
              "  background-color: var(--sklearn-color-unfitted-level-3);\n",
              "  color: var(--sklearn-color-background);\n",
              "  text-decoration: none;\n",
              "}\n",
              "\n",
              "div.sk-estimator.fitted:hover .sk-estimator-doc-link.fitted:hover,\n",
              ".sk-estimator-doc-link.fitted:hover,\n",
              "div.sk-label-container:hover .sk-estimator-doc-link.fitted:hover,\n",
              ".sk-estimator-doc-link.fitted:hover {\n",
              "  /* fitted */\n",
              "  background-color: var(--sklearn-color-fitted-level-3);\n",
              "  color: var(--sklearn-color-background);\n",
              "  text-decoration: none;\n",
              "}\n",
              "\n",
              "/* Span, style for the box shown on hovering the info icon */\n",
              ".sk-estimator-doc-link span {\n",
              "  display: none;\n",
              "  z-index: 9999;\n",
              "  position: relative;\n",
              "  font-weight: normal;\n",
              "  right: .2ex;\n",
              "  padding: .5ex;\n",
              "  margin: .5ex;\n",
              "  width: min-content;\n",
              "  min-width: 20ex;\n",
              "  max-width: 50ex;\n",
              "  color: var(--sklearn-color-text);\n",
              "  box-shadow: 2pt 2pt 4pt #999;\n",
              "  /* unfitted */\n",
              "  background: var(--sklearn-color-unfitted-level-0);\n",
              "  border: .5pt solid var(--sklearn-color-unfitted-level-3);\n",
              "}\n",
              "\n",
              ".sk-estimator-doc-link.fitted span {\n",
              "  /* fitted */\n",
              "  background: var(--sklearn-color-fitted-level-0);\n",
              "  border: var(--sklearn-color-fitted-level-3);\n",
              "}\n",
              "\n",
              ".sk-estimator-doc-link:hover span {\n",
              "  display: block;\n",
              "}\n",
              "\n",
              "/* \"?\"-specific style due to the `<a>` HTML tag */\n",
              "\n",
              "#sk-container-id-1 a.estimator_doc_link {\n",
              "  float: right;\n",
              "  font-size: 1rem;\n",
              "  line-height: 1em;\n",
              "  font-family: monospace;\n",
              "  background-color: var(--sklearn-color-background);\n",
              "  border-radius: 1rem;\n",
              "  height: 1rem;\n",
              "  width: 1rem;\n",
              "  text-decoration: none;\n",
              "  /* unfitted */\n",
              "  color: var(--sklearn-color-unfitted-level-1);\n",
              "  border: var(--sklearn-color-unfitted-level-1) 1pt solid;\n",
              "}\n",
              "\n",
              "#sk-container-id-1 a.estimator_doc_link.fitted {\n",
              "  /* fitted */\n",
              "  border: var(--sklearn-color-fitted-level-1) 1pt solid;\n",
              "  color: var(--sklearn-color-fitted-level-1);\n",
              "}\n",
              "\n",
              "/* On hover */\n",
              "#sk-container-id-1 a.estimator_doc_link:hover {\n",
              "  /* unfitted */\n",
              "  background-color: var(--sklearn-color-unfitted-level-3);\n",
              "  color: var(--sklearn-color-background);\n",
              "  text-decoration: none;\n",
              "}\n",
              "\n",
              "#sk-container-id-1 a.estimator_doc_link.fitted:hover {\n",
              "  /* fitted */\n",
              "  background-color: var(--sklearn-color-fitted-level-3);\n",
              "}\n",
              "</style><div id=\"sk-container-id-1\" class=\"sk-top-container\"><div class=\"sk-text-repr-fallback\"><pre>GridSearchCV(cv=5, estimator=KNeighborsClassifier(),\n",
              "             param_grid={&#x27;n_neighbors&#x27;: range(23, 33), &#x27;p&#x27;: [1, 2],\n",
              "                         &#x27;weights&#x27;: [&#x27;uniform&#x27;, &#x27;distance&#x27;]},\n",
              "             scoring=&#x27;accuracy&#x27;)</pre><b>In a Jupyter environment, please rerun this cell to show the HTML representation or trust the notebook. <br />On GitHub, the HTML representation is unable to render, please try loading this page with nbviewer.org.</b></div><div class=\"sk-container\" hidden><div class=\"sk-item sk-dashed-wrapped\"><div class=\"sk-label-container\"><div class=\"sk-label fitted sk-toggleable\"><input class=\"sk-toggleable__control sk-hidden--visually\" id=\"sk-estimator-id-1\" type=\"checkbox\" ><label for=\"sk-estimator-id-1\" class=\"sk-toggleable__label fitted sk-toggleable__label-arrow fitted\">&nbsp;&nbsp;GridSearchCV<a class=\"sk-estimator-doc-link fitted\" rel=\"noreferrer\" target=\"_blank\" href=\"https://scikit-learn.org/1.4/modules/generated/sklearn.model_selection.GridSearchCV.html\">?<span>Documentation for GridSearchCV</span></a><span class=\"sk-estimator-doc-link fitted\">i<span>Fitted</span></span></label><div class=\"sk-toggleable__content fitted\"><pre>GridSearchCV(cv=5, estimator=KNeighborsClassifier(),\n",
              "             param_grid={&#x27;n_neighbors&#x27;: range(23, 33), &#x27;p&#x27;: [1, 2],\n",
              "                         &#x27;weights&#x27;: [&#x27;uniform&#x27;, &#x27;distance&#x27;]},\n",
              "             scoring=&#x27;accuracy&#x27;)</pre></div> </div></div><div class=\"sk-parallel\"><div class=\"sk-parallel-item\"><div class=\"sk-item\"><div class=\"sk-label-container\"><div class=\"sk-label fitted sk-toggleable\"><input class=\"sk-toggleable__control sk-hidden--visually\" id=\"sk-estimator-id-2\" type=\"checkbox\" ><label for=\"sk-estimator-id-2\" class=\"sk-toggleable__label fitted sk-toggleable__label-arrow fitted\">estimator: KNeighborsClassifier</label><div class=\"sk-toggleable__content fitted\"><pre>KNeighborsClassifier()</pre></div> </div></div><div class=\"sk-serial\"><div class=\"sk-item\"><div class=\"sk-estimator fitted sk-toggleable\"><input class=\"sk-toggleable__control sk-hidden--visually\" id=\"sk-estimator-id-3\" type=\"checkbox\" ><label for=\"sk-estimator-id-3\" class=\"sk-toggleable__label fitted sk-toggleable__label-arrow fitted\">&nbsp;KNeighborsClassifier<a class=\"sk-estimator-doc-link fitted\" rel=\"noreferrer\" target=\"_blank\" href=\"https://scikit-learn.org/1.4/modules/generated/sklearn.neighbors.KNeighborsClassifier.html\">?<span>Documentation for KNeighborsClassifier</span></a></label><div class=\"sk-toggleable__content fitted\"><pre>KNeighborsClassifier()</pre></div> </div></div></div></div></div></div></div></div></div>"
            ],
            "text/plain": [
              "GridSearchCV(cv=5, estimator=KNeighborsClassifier(),\n",
              "             param_grid={'n_neighbors': range(23, 33), 'p': [1, 2],\n",
              "                         'weights': ['uniform', 'distance']},\n",
              "             scoring='accuracy')"
            ]
          },
          "execution_count": 18,
          "metadata": {},
          "output_type": "execute_result"
        }
      ],
      "source": [
        "from sklearn.neighbors import KNeighborsClassifier\n",
        "from sklearn.model_selection import GridSearchCV\n",
        "#############################################################################\n",
        "## TODO: Explore GridSearchCV functionality to identify the best parameters\n",
        "## (n_neighbors, weights, p) for your KNN model.\n",
        "#############################################################################\n",
        "# for our n_neighbours value, we should start with sqrt(n)\n",
        "import math\n",
        "\n",
        "\n",
        "param_grid = {\n",
        "    'n_neighbors' : range(int(math.sqrt(len(X_train_np)) - 5), int(math.sqrt(len(X_train_np)) + 5)),\n",
        "    'weights' : ['uniform', 'distance'],\n",
        "    'p' : [1, 2]\n",
        "}\n",
        "\n",
        "grid_search = GridSearchCV(knn, param_grid, cv=5, scoring='accuracy')\n",
        "grid_search.fit(X_train_np, y_train_np)\n",
        "\n",
        "\n",
        "\n"
      ]
    },
    {
      "cell_type": "code",
      "execution_count": 19,
      "metadata": {
        "colab": {
          "base_uri": "https://localhost:8080/"
        },
        "id": "DD9O3QK6Gwm5",
        "outputId": "00dd9694-26fb-4a1b-c71d-1f0c0c49f305"
      },
      "outputs": [
        {
          "name": "stdout",
          "output_type": "stream",
          "text": [
            "Best parameters:  {'n_neighbors': 24, 'p': 1, 'weights': 'distance'}\n"
          ]
        }
      ],
      "source": [
        "#############################################################################\n",
        "## TODO: Retrieve the best model and its parameters\n",
        "#############################################################################\n",
        "print(\"Best parameters: \", grid_search.best_params_)\n",
        "best_model = grid_search.best_estimator_\n"
      ]
    },
    {
      "cell_type": "markdown",
      "metadata": {
        "id": "G33EdFtEG3E7"
      },
      "source": [
        "### Cross Validation Score on Result of Grid Search ( 2pt)"
      ]
    },
    {
      "cell_type": "code",
      "execution_count": 20,
      "metadata": {
        "colab": {
          "base_uri": "https://localhost:8080/"
        },
        "id": "kwkYcRdoGwri",
        "outputId": "510193bf-8a4e-4d02-848c-474a46c0ad1a"
      },
      "outputs": [
        {
          "name": "stdout",
          "output_type": "stream",
          "text": [
            "KNN Acc:  0.9189358372456964\n",
            "KNN Recall:  0.9186907916319681\n"
          ]
        }
      ],
      "source": [
        "#############################################################################\n",
        "## TODO: Do again \"K-Fold cross validation\" on best KNN model of the Gride Search\n",
        "#############################################################################\n",
        "scoring_best = ['accuracy', 'recall_macro']\n",
        "best_model.fit(X_train, y_train)\n",
        "y_pred_best = best_model.predict(X_test)\n",
        "cv_res_best = cross_validate(knn, X_test_np, y_pred_best, cv=5, scoring=scoring_best)\n",
        "\n",
        "print(\"KNN Acc: \", cv_res_best['test_accuracy'].mean())\n",
        "print(\"KNN Recall: \", cv_res_best['test_recall_macro'].mean())\n"
      ]
    },
    {
      "cell_type": "markdown",
      "metadata": {
        "id": "tQihxWNWHF10"
      },
      "source": [
        "### Is the aforementioned KNN model (Best KNN) fair? ( 3 pt)\n",
        "Evaluate that model perform equally on men and women or not."
      ]
    },
    {
      "cell_type": "code",
      "execution_count": 21,
      "metadata": {
        "colab": {
          "base_uri": "https://localhost:8080/"
        },
        "id": "3utF4dZkGwu7",
        "outputId": "e73db6ee-ec8d-4d89-cae2-0b1de8c87b49"
      },
      "outputs": [
        {
          "name": "stdout",
          "output_type": "stream",
          "text": [
            "Male Report:  {'Accuracy:': 0.9742647058823529, 'Precision:': 0.9696969696969697, 'Recall:': 0.9876543209876543, 'F1score:': 0.9785932721712538, 'FNR:': 0.012345679012345678}\n",
            "Female Report:  {'Accuracy:': 0.9411764705882353, 'Precision:': 0.8333333333333334, 'Recall:': 0.8823529411764706, 'F1score:': 0.8571428571428571, 'FNR:': 0.11764705882352941}\n"
          ]
        }
      ],
      "source": [
        "#############################################################################\n",
        "## TODO: split your test data on two split of women and men and give\n",
        "## classification_report on them.\n",
        "#############################################################################\n",
        "X_test_male = X_test[X_test['sex'] == 1]\n",
        "X_test_female = X_test[X_test['sex'] == 0]\n",
        "\n",
        "y_test_male = y_test.loc[X_test_male.index]\n",
        "y_test_female = y_test.loc[X_test_female.index]\n",
        "\n",
        "y_test_male_np = np.array(y_test_male)\n",
        "y_test_female_np = np.array(y_test_female)\n",
        "\n",
        "best_model.fit(X_train, y_train)\n",
        "\n",
        "y_pred_male = best_model.predict(X_test_male)\n",
        "print(\"Male Report: \", classification_report(y_test_male_np, y_pred_male))\n",
        "\n",
        "y_pred_female = best_model.predict(X_test_female)\n",
        "print(\"Female Report: \", classification_report(y_test_female_np, y_pred_female))\n",
        "\n",
        "#############################################################################\n",
        "## TODO: write a comment and explain the result of this section in one paragraph.\n",
        "## Why FNR in this dataset is important? And probably why this gap between men\n",
        "## and women FNR happens\n",
        "# Your Comment:\n",
        "# The FNR is important because it shows the likelihood that the model is able to correctly train on male vs female data. This gap may occur because \n",
        "# of the gap in data collected (i.e., there is more male data available, hence the FNR is lower for men than women)\n",
        "#\n",
        "#\n",
        "#\n",
        "#\n",
        "#\n",
        "#\n",
        "#\n",
        "#\n",
        "#############################################################################"
      ]
    },
    {
      "cell_type": "markdown",
      "metadata": {
        "id": "onDVp5V3HLCy"
      },
      "source": [
        "### Ensemble Leanrning ( 10 pt)"
      ]
    },
    {
      "cell_type": "markdown",
      "metadata": {
        "id": "3pcnIH4WHNdk"
      },
      "source": [
        "First read the first part of this blog\n",
        "https://rasbt.github.io/mlxtend/user_guide/classifier/StackingCVClassifier/"
      ]
    },
    {
      "cell_type": "code",
      "execution_count": 22,
      "metadata": {
        "colab": {
          "base_uri": "https://localhost:8080/"
        },
        "id": "GtOuBthXHPwG",
        "outputId": "ef66cd15-3d05-488d-cb37-7c7bbe9f0f89"
      },
      "outputs": [
        {
          "name": "stdout",
          "output_type": "stream",
          "text": [
            "{'Accuracy:': 1.0, 'Precision:': 1.0, 'Recall:': 1.0, 'F1score:': 1.0, 'FNR:': 0.0}\n"
          ]
        }
      ],
      "source": [
        "from sklearn import model_selection\n",
        "from sklearn.linear_model import LogisticRegression\n",
        "from sklearn.neighbors import KNeighborsClassifier\n",
        "from sklearn.svm import SVC\n",
        "from sklearn.tree import DecisionTreeClassifier\n",
        "from sklearn.ensemble import RandomForestClassifier\n",
        "from sklearn.naive_bayes import GaussianNB\n",
        "from mlxtend.classifier import StackingCVClassifier\n",
        "from sklearn import metrics\n",
        "\n",
        "\n",
        "#############################################################################\n",
        "## TO-DO: Implement a Stacking Classifier Ensemble for Model Selection\n",
        "## 1. Utilize a Logistic Regression, the best K-Neighbors Classifier,\n",
        "##    Support Vector Machine (SVM), Soft-margin SVM, Decision Tree,\n",
        "##    Random Forest, and Naive Bayes as base classifiers.\n",
        "## 2. Designate a Logistic Regression as the Meta-Classifier.\n",
        "## 3. Utilize 3-fold cross-validation for model evaluation.\n",
        "## 4. Assess models' performance on the test set.\n",
        "#############################################################################\n",
        "\n",
        "# Logistic Regression Implementation\n",
        "log_reg_stack = LogisticRegression()\n",
        "log_reg_stack.fit(X_train_np, y_train_np)\n",
        "regr_prediction = log_reg_stack.predict(X_test_np)\n",
        "\n",
        "# Best KN Classifier Implementation\n",
        "best_model_stack = grid_search.best_estimator_\n",
        "best_model_stack.fit(X_train_np, y_train_np)\n",
        "best_knn_prediction = best_model_stack.predict(X_test_np)\n",
        "\n",
        "# Hard-Margin SVM (default SVM implementation)\n",
        "svm_stack = SVC(kernel=\"linear\", C=1e9)\n",
        "svm_stack.fit(X_train, y_train)\n",
        "svm_hard_prediction = svm_stack.predict(X_test)\n",
        "\n",
        "# Soft-Margin SVM (change C value to something very small)\n",
        "svm_soft_stack = SVC(kernel=\"linear\", C=0.01) \n",
        "svm_soft_stack.fit(X_train, y_train)\n",
        "soft_svm_prediction = svm_soft_stack.predict(X_test)\n",
        "\n",
        "# Decision Tree Implementation. Will use the Gini Impurity \n",
        "d_tree_stack = DecisionTreeClassifier(criterion=\"gini\")\n",
        "d_tree_stack.fit(X_train, y_train)\n",
        "DT_prediction = d_tree_stack.predict(X_test)\n",
        "\n",
        "# Random Forest Implentation\n",
        "rf_stack = RandomForestClassifier()\n",
        "rf_stack.fit(X_train, y_train)\n",
        "rf_prediction = rf_stack.predict(X_test)\n",
        "\n",
        "# Naïve Bayes Implementation\n",
        "nb_stack = GaussianNB()\n",
        "nb_stack.fit(X_train, y_train)\n",
        "nb_prediction = nb_stack.predict(X_test)\n",
        "\n",
        "stacking_classifier = StackingCVClassifier(classifiers=[log_reg_stack, best_model_stack, svm_stack,\n",
        "                                                        svm_soft_stack, d_tree_stack, rf_stack, nb_stack], \n",
        "                                                        meta_classifier=LogisticRegression(), cv = 3)\n",
        "\n",
        "stacking_classifier.fit(X_train, y_train)\n",
        "stack_prediction = stacking_classifier.predict(X_test)\n",
        "\n",
        "print(classification_report(y_test_np, stack_prediction))\n",
        "\n",
        "# performance should be solid! Check AUC ROC\n",
        "\n",
        " \n",
        "\n",
        "\n",
        "\n"
      ]
    },
    {
      "cell_type": "markdown",
      "metadata": {
        "id": "1HgHlYPkHUMy"
      },
      "source": [
        "### ROC ( 10 pt)\n",
        "read about AUC ROC form this link:\n",
        "https://medium.com/greyatom/lets-learn-about-auc-roc-curve-4a94b4d88152\n",
        "and plot ROC Curve for ensembel model."
      ]
    },
    {
      "cell_type": "code",
      "execution_count": 23,
      "metadata": {
        "id": "9emxpClrHUtT"
      },
      "outputs": [
        {
          "name": "stderr",
          "output_type": "stream",
          "text": [
            "No artists with labels found to put in legend.  Note that artists whose label start with an underscore are ignored when legend() is called with no argument.\n"
          ]
        },
        {
          "data": {
            "text/plain": [
              "Text(0.5, 1.0, 'AUC ROC for a Stacking Classifier')"
            ]
          },
          "execution_count": 23,
          "metadata": {},
          "output_type": "execute_result"
        },
        {
          "data": {
            "image/png": "[encoded data removed]",
            "text/plain": [
              "<Figure size 640x480 with 1 Axes>"
            ]
          },
          "metadata": {},
          "output_type": "display_data"
        }
      ],
      "source": [
        "from sklearn.metrics import roc_curve\n",
        "from sklearn.metrics import RocCurveDisplay\n",
        "\n",
        "#############################################################################\n",
        "## TODO: plot roc_curve for Ensemble model you created previously\n",
        "#############################################################################\n",
        "\n",
        "false_positive, true_positive, thresholds = roc_curve(y_test, stack_prediction)\n",
        "roc_display = RocCurveDisplay(fpr=false_positive, tpr=true_positive)\n",
        "roc_display.plot()\n",
        "\n",
        "plt.title('AUC ROC for a Stacking Classifier')\n",
        "\n",
        "#############################################################################\n",
        "## TODO: what this plot can show us that other metrics like Accuracy can't:\n",
        "## Your Comment:\n",
        "# Helps us analyse performance across all metrics: i.e., balance between sensitivity and specificity, \n",
        "# model performance in imbalanced datasets\n",
        "# aggregated measure of performance across the different classes, and comparison between models\n",
        "#\n",
        "#\n",
        "#############################################################################"
      ]
    }
  ],
  "metadata": {
    "colab": {
      "provenance": []
    },
    "kernelspec": {
      "display_name": "Python 3",
      "name": "python3"
    },
    "language_info": {
      "codemirror_mode": {
        "name": "ipython",
        "version": 3
      },
      "file_extension": ".py",
      "mimetype": "text/x-python",
      "name": "python",
      "nbconvert_exporter": "python",
      "pygments_lexer": "ipython3",
      "version": "3.11.7"
    },
    "widgets": {
      "application/vnd.jupyter.widget-state+json": {
        "1078d1f6a7a0407499c988d7b7a64b03": {
          "model_module": "@jupyter-widgets/base",
          "model_module_version": "1.2.0",
          "model_name": "LayoutModel",
          "state": {
            "_model_module": "@jupyter-widgets/base",
            "_model_module_version": "1.2.0",
            "_model_name": "LayoutModel",
            "_view_count": null,
            "_view_module": "@jupyter-widgets/base",
            "_view_module_version": "1.2.0",
            "_view_name": "LayoutView",
            "align_content": null,
            "align_items": null,
            "align_self": null,
            "border": null,
            "bottom": null,
            "display": null,
            "flex": null,
            "flex_flow": null,
            "grid_area": null,
            "grid_auto_columns": null,
            "grid_auto_flow": null,
            "grid_auto_rows": null,
            "grid_column": null,
            "grid_gap": null,
            "grid_row": null,
            "grid_template_areas": null,
            "grid_template_columns": null,
            "grid_template_rows": null,
            "height": null,
            "justify_content": null,
            "justify_items": null,
            "left": null,
            "margin": null,
            "max_height": null,
            "max_width": null,
            "min_height": null,
            "min_width": null,
            "object_fit": null,
            "object_position": null,
            "order": null,
            "overflow": null,
            "overflow_x": null,
            "overflow_y": null,
            "padding": null,
            "right": null,
            "top": null,
            "visibility": null,
            "width": null
          }
        },
        "24445ca8a21942358609c2ca35c5abf2": {
          "model_module": "@jupyter-widgets/base",
          "model_module_version": "1.2.0",
          "model_name": "LayoutModel",
          "state": {
            "_model_module": "@jupyter-widgets/base",
            "_model_module_version": "1.2.0",
            "_model_name": "LayoutModel",
            "_view_count": null,
            "_view_module": "@jupyter-widgets/base",
            "_view_module_version": "1.2.0",
            "_view_name": "LayoutView",
            "align_content": null,
            "align_items": null,
            "align_self": null,
            "border": null,
            "bottom": null,
            "display": null,
            "flex": null,
            "flex_flow": null,
            "grid_area": null,
            "grid_auto_columns": null,
            "grid_auto_flow": null,
            "grid_auto_rows": null,
            "grid_column": null,
            "grid_gap": null,
            "grid_row": null,
            "grid_template_areas": null,
            "grid_template_columns": null,
            "grid_template_rows": null,
            "height": null,
            "justify_content": null,
            "justify_items": null,
            "left": null,
            "margin": null,
            "max_height": null,
            "max_width": null,
            "min_height": null,
            "min_width": null,
            "object_fit": null,
            "object_position": null,
            "order": null,
            "overflow": null,
            "overflow_x": null,
            "overflow_y": null,
            "padding": null,
            "right": null,
            "top": null,
            "visibility": null,
            "width": null
          }
        },
        "279a9747c9d54b329ddc3249c2246dba": {
          "model_module": "@jupyter-widgets/controls",
          "model_module_version": "1.5.0",
          "model_name": "HTMLModel",
          "state": {
            "_dom_classes": [],
            "_model_module": "@jupyter-widgets/controls",
            "_model_module_version": "1.5.0",
            "_model_name": "HTMLModel",
            "_view_count": null,
            "_view_module": "@jupyter-widgets/controls",
            "_view_module_version": "1.5.0",
            "_view_name": "HTMLView",
            "description": "",
            "description_tooltip": null,
            "layout": "IPY_MODEL_1078d1f6a7a0407499c988d7b7a64b03",
            "placeholder": "​",
            "style": "IPY_MODEL_f14b478effee4ebba6f573c4341db7fd",
            "value": "Summarize dataset: 100%"
          }
        },
        "28345969c64741dea2086e9cdc525c12": {
          "model_module": "@jupyter-widgets/base",
          "model_module_version": "1.2.0",
          "model_name": "LayoutModel",
          "state": {
            "_model_module": "@jupyter-widgets/base",
            "_model_module_version": "1.2.0",
            "_model_name": "LayoutModel",
            "_view_count": null,
            "_view_module": "@jupyter-widgets/base",
            "_view_module_version": "1.2.0",
            "_view_name": "LayoutView",
            "align_content": null,
            "align_items": null,
            "align_self": null,
            "border": null,
            "bottom": null,
            "display": null,
            "flex": null,
            "flex_flow": null,
            "grid_area": null,
            "grid_auto_columns": null,
            "grid_auto_flow": null,
            "grid_auto_rows": null,
            "grid_column": null,
            "grid_gap": null,
            "grid_row": null,
            "grid_template_areas": null,
            "grid_template_columns": null,
            "grid_template_rows": null,
            "height": null,
            "justify_content": null,
            "justify_items": null,
            "left": null,
            "margin": null,
            "max_height": null,
            "max_width": null,
            "min_height": null,
            "min_width": null,
            "object_fit": null,
            "object_position": null,
            "order": null,
            "overflow": null,
            "overflow_x": null,
            "overflow_y": null,
            "padding": null,
            "right": null,
            "top": null,
            "visibility": null,
            "width": null
          }
        },
        "3dbd38f7f48048258ce319e7fce2a570": {
          "model_module": "@jupyter-widgets/controls",
          "model_module_version": "1.5.0",
          "model_name": "HTMLModel",
          "state": {
            "_dom_classes": [],
            "_model_module": "@jupyter-widgets/controls",
            "_model_module_version": "1.5.0",
            "_model_name": "HTMLModel",
            "_view_count": null,
            "_view_module": "@jupyter-widgets/controls",
            "_view_module_version": "1.5.0",
            "_view_name": "HTMLView",
            "description": "",
            "description_tooltip": null,
            "layout": "IPY_MODEL_d53e2d782a9542a08c954a3e75cae663",
            "placeholder": "​",
            "style": "IPY_MODEL_7daa616105694068ab49e72da66e2e94",
            "value": " 1/1 [00:07&lt;00:00,  7.14s/it]"
          }
        },
        "3dcd8e7f0ea24107abec95180ea63ff0": {
          "model_module": "@jupyter-widgets/base",
          "model_module_version": "1.2.0",
          "model_name": "LayoutModel",
          "state": {
            "_model_module": "@jupyter-widgets/base",
            "_model_module_version": "1.2.0",
            "_model_name": "LayoutModel",
            "_view_count": null,
            "_view_module": "@jupyter-widgets/base",
            "_view_module_version": "1.2.0",
            "_view_name": "LayoutView",
            "align_content": null,
            "align_items": null,
            "align_self": null,
            "border": null,
            "bottom": null,
            "display": null,
            "flex": null,
            "flex_flow": null,
            "grid_area": null,
            "grid_auto_columns": null,
            "grid_auto_flow": null,
            "grid_auto_rows": null,
            "grid_column": null,
            "grid_gap": null,
            "grid_row": null,
            "grid_template_areas": null,
            "grid_template_columns": null,
            "grid_template_rows": null,
            "height": null,
            "justify_content": null,
            "justify_items": null,
            "left": null,
            "margin": null,
            "max_height": null,
            "max_width": null,
            "min_height": null,
            "min_width": null,
            "object_fit": null,
            "object_position": null,
            "order": null,
            "overflow": null,
            "overflow_x": null,
            "overflow_y": null,
            "padding": null,
            "right": null,
            "top": null,
            "visibility": null,
            "width": null
          }
        },
        "4e96e8b512964aac8c3e56b13005ae90": {
          "model_module": "@jupyter-widgets/controls",
          "model_module_version": "1.5.0",
          "model_name": "FloatProgressModel",
          "state": {
            "_dom_classes": [],
            "_model_module": "@jupyter-widgets/controls",
            "_model_module_version": "1.5.0",
            "_model_name": "FloatProgressModel",
            "_view_count": null,
            "_view_module": "@jupyter-widgets/controls",
            "_view_module_version": "1.5.0",
            "_view_name": "ProgressView",
            "bar_style": "success",
            "description": "",
            "description_tooltip": null,
            "layout": "IPY_MODEL_68c2a53bf4164cf1954d2924963e8a69",
            "max": 1,
            "min": 0,
            "orientation": "horizontal",
            "style": "IPY_MODEL_b3ec05ad1af74ee29e146041a61d47ee",
            "value": 1
          }
        },
        "63d4092f80a44af6a15f2df7d855c583": {
          "model_module": "@jupyter-widgets/controls",
          "model_module_version": "1.5.0",
          "model_name": "HBoxModel",
          "state": {
            "_dom_classes": [],
            "_model_module": "@jupyter-widgets/controls",
            "_model_module_version": "1.5.0",
            "_model_name": "HBoxModel",
            "_view_count": null,
            "_view_module": "@jupyter-widgets/controls",
            "_view_module_version": "1.5.0",
            "_view_name": "HBoxView",
            "box_style": "",
            "children": [
              "IPY_MODEL_eafd072f925442959f2c0fe8a5cbd5d4",
              "IPY_MODEL_db3b1cc3cc1b4bbb9427aa2f644f2546",
              "IPY_MODEL_f5c69c9733b544c595e8982bb218e2af"
            ],
            "layout": "IPY_MODEL_24445ca8a21942358609c2ca35c5abf2"
          }
        },
        "68c2a53bf4164cf1954d2924963e8a69": {
          "model_module": "@jupyter-widgets/base",
          "model_module_version": "1.2.0",
          "model_name": "LayoutModel",
          "state": {
            "_model_module": "@jupyter-widgets/base",
            "_model_module_version": "1.2.0",
            "_model_name": "LayoutModel",
            "_view_count": null,
            "_view_module": "@jupyter-widgets/base",
            "_view_module_version": "1.2.0",
            "_view_name": "LayoutView",
            "align_content": null,
            "align_items": null,
            "align_self": null,
            "border": null,
            "bottom": null,
            "display": null,
            "flex": null,
            "flex_flow": null,
            "grid_area": null,
            "grid_auto_columns": null,
            "grid_auto_flow": null,
            "grid_auto_rows": null,
            "grid_column": null,
            "grid_gap": null,
            "grid_row": null,
            "grid_template_areas": null,
            "grid_template_columns": null,
            "grid_template_rows": null,
            "height": null,
            "justify_content": null,
            "justify_items": null,
            "left": null,
            "margin": null,
            "max_height": null,
            "max_width": null,
            "min_height": null,
            "min_width": null,
            "object_fit": null,
            "object_position": null,
            "order": null,
            "overflow": null,
            "overflow_x": null,
            "overflow_y": null,
            "padding": null,
            "right": null,
            "top": null,
            "visibility": null,
            "width": null
          }
        },
        "6a7cff11df41408899cea411acd15873": {
          "model_module": "@jupyter-widgets/controls",
          "model_module_version": "1.5.0",
          "model_name": "ProgressStyleModel",
          "state": {
            "_model_module": "@jupyter-widgets/controls",
            "_model_module_version": "1.5.0",
            "_model_name": "ProgressStyleModel",
            "_view_count": null,
            "_view_module": "@jupyter-widgets/base",
            "_view_module_version": "1.2.0",
            "_view_name": "StyleView",
            "bar_color": null,
            "description_width": ""
          }
        },
        "6c893bd450ac44159765286d3a99ee80": {
          "model_module": "@jupyter-widgets/controls",
          "model_module_version": "1.5.0",
          "model_name": "DescriptionStyleModel",
          "state": {
            "_model_module": "@jupyter-widgets/controls",
            "_model_module_version": "1.5.0",
            "_model_name": "DescriptionStyleModel",
            "_view_count": null,
            "_view_module": "@jupyter-widgets/base",
            "_view_module_version": "1.2.0",
            "_view_name": "StyleView",
            "description_width": ""
          }
        },
        "6e106899f6b5404da2f9772f74baf17a": {
          "model_module": "@jupyter-widgets/controls",
          "model_module_version": "1.5.0",
          "model_name": "FloatProgressModel",
          "state": {
            "_dom_classes": [],
            "_model_module": "@jupyter-widgets/controls",
            "_model_module_version": "1.5.0",
            "_model_name": "FloatProgressModel",
            "_view_count": null,
            "_view_module": "@jupyter-widgets/controls",
            "_view_module_version": "1.5.0",
            "_view_name": "ProgressView",
            "bar_style": "success",
            "description": "",
            "description_tooltip": null,
            "layout": "IPY_MODEL_dc6daca5b1284b5e88e2d23eb10b3a11",
            "max": 5,
            "min": 0,
            "orientation": "horizontal",
            "style": "IPY_MODEL_6a7cff11df41408899cea411acd15873",
            "value": 5
          }
        },
        "737ae5d02c284e3bad5becb18fb2849a": {
          "model_module": "@jupyter-widgets/base",
          "model_module_version": "1.2.0",
          "model_name": "LayoutModel",
          "state": {
            "_model_module": "@jupyter-widgets/base",
            "_model_module_version": "1.2.0",
            "_model_name": "LayoutModel",
            "_view_count": null,
            "_view_module": "@jupyter-widgets/base",
            "_view_module_version": "1.2.0",
            "_view_name": "LayoutView",
            "align_content": null,
            "align_items": null,
            "align_self": null,
            "border": null,
            "bottom": null,
            "display": null,
            "flex": null,
            "flex_flow": null,
            "grid_area": null,
            "grid_auto_columns": null,
            "grid_auto_flow": null,
            "grid_auto_rows": null,
            "grid_column": null,
            "grid_gap": null,
            "grid_row": null,
            "grid_template_areas": null,
            "grid_template_columns": null,
            "grid_template_rows": null,
            "height": null,
            "justify_content": null,
            "justify_items": null,
            "left": null,
            "margin": null,
            "max_height": null,
            "max_width": null,
            "min_height": null,
            "min_width": null,
            "object_fit": null,
            "object_position": null,
            "order": null,
            "overflow": null,
            "overflow_x": null,
            "overflow_y": null,
            "padding": null,
            "right": null,
            "top": null,
            "visibility": null,
            "width": null
          }
        },
        "78ae7fb944a84cc7a5cc09ac2b349dca": {
          "model_module": "@jupyter-widgets/base",
          "model_module_version": "1.2.0",
          "model_name": "LayoutModel",
          "state": {
            "_model_module": "@jupyter-widgets/base",
            "_model_module_version": "1.2.0",
            "_model_name": "LayoutModel",
            "_view_count": null,
            "_view_module": "@jupyter-widgets/base",
            "_view_module_version": "1.2.0",
            "_view_name": "LayoutView",
            "align_content": null,
            "align_items": null,
            "align_self": null,
            "border": null,
            "bottom": null,
            "display": null,
            "flex": null,
            "flex_flow": null,
            "grid_area": null,
            "grid_auto_columns": null,
            "grid_auto_flow": null,
            "grid_auto_rows": null,
            "grid_column": null,
            "grid_gap": null,
            "grid_row": null,
            "grid_template_areas": null,
            "grid_template_columns": null,
            "grid_template_rows": null,
            "height": null,
            "justify_content": null,
            "justify_items": null,
            "left": null,
            "margin": null,
            "max_height": null,
            "max_width": null,
            "min_height": null,
            "min_width": null,
            "object_fit": null,
            "object_position": null,
            "order": null,
            "overflow": null,
            "overflow_x": null,
            "overflow_y": null,
            "padding": null,
            "right": null,
            "top": null,
            "visibility": null,
            "width": null
          }
        },
        "7daa616105694068ab49e72da66e2e94": {
          "model_module": "@jupyter-widgets/controls",
          "model_module_version": "1.5.0",
          "model_name": "DescriptionStyleModel",
          "state": {
            "_model_module": "@jupyter-widgets/controls",
            "_model_module_version": "1.5.0",
            "_model_name": "DescriptionStyleModel",
            "_view_count": null,
            "_view_module": "@jupyter-widgets/base",
            "_view_module_version": "1.2.0",
            "_view_name": "StyleView",
            "description_width": ""
          }
        },
        "800b1d748da344f0803e5144abb1ab3c": {
          "model_module": "@jupyter-widgets/controls",
          "model_module_version": "1.5.0",
          "model_name": "DescriptionStyleModel",
          "state": {
            "_model_module": "@jupyter-widgets/controls",
            "_model_module_version": "1.5.0",
            "_model_name": "DescriptionStyleModel",
            "_view_count": null,
            "_view_module": "@jupyter-widgets/base",
            "_view_module_version": "1.2.0",
            "_view_name": "StyleView",
            "description_width": ""
          }
        },
        "81adfa7b1d304f6ba5a02c2273e3fbf1": {
          "model_module": "@jupyter-widgets/controls",
          "model_module_version": "1.5.0",
          "model_name": "HBoxModel",
          "state": {
            "_dom_classes": [],
            "_model_module": "@jupyter-widgets/controls",
            "_model_module_version": "1.5.0",
            "_model_name": "HBoxModel",
            "_view_count": null,
            "_view_module": "@jupyter-widgets/controls",
            "_view_module_version": "1.5.0",
            "_view_name": "HBoxView",
            "box_style": "",
            "children": [
              "IPY_MODEL_d6c87f4901e040bea24b7884323abd7e",
              "IPY_MODEL_4e96e8b512964aac8c3e56b13005ae90",
              "IPY_MODEL_3dbd38f7f48048258ce319e7fce2a570"
            ],
            "layout": "IPY_MODEL_3dcd8e7f0ea24107abec95180ea63ff0"
          }
        },
        "8895ab946e08454ab4b2c311f4b80a37": {
          "model_module": "@jupyter-widgets/controls",
          "model_module_version": "1.5.0",
          "model_name": "ProgressStyleModel",
          "state": {
            "_model_module": "@jupyter-widgets/controls",
            "_model_module_version": "1.5.0",
            "_model_name": "ProgressStyleModel",
            "_view_count": null,
            "_view_module": "@jupyter-widgets/base",
            "_view_module_version": "1.2.0",
            "_view_name": "StyleView",
            "bar_color": null,
            "description_width": ""
          }
        },
        "93ae3da6075e4216a14ed6767ec45a2c": {
          "model_module": "@jupyter-widgets/controls",
          "model_module_version": "1.5.0",
          "model_name": "DescriptionStyleModel",
          "state": {
            "_model_module": "@jupyter-widgets/controls",
            "_model_module_version": "1.5.0",
            "_model_name": "DescriptionStyleModel",
            "_view_count": null,
            "_view_module": "@jupyter-widgets/base",
            "_view_module_version": "1.2.0",
            "_view_name": "StyleView",
            "description_width": ""
          }
        },
        "a94024f88d8840dc8269e2f8be85c6c2": {
          "model_module": "@jupyter-widgets/controls",
          "model_module_version": "1.5.0",
          "model_name": "DescriptionStyleModel",
          "state": {
            "_model_module": "@jupyter-widgets/controls",
            "_model_module_version": "1.5.0",
            "_model_name": "DescriptionStyleModel",
            "_view_count": null,
            "_view_module": "@jupyter-widgets/base",
            "_view_module_version": "1.2.0",
            "_view_name": "StyleView",
            "description_width": ""
          }
        },
        "b3ec05ad1af74ee29e146041a61d47ee": {
          "model_module": "@jupyter-widgets/controls",
          "model_module_version": "1.5.0",
          "model_name": "ProgressStyleModel",
          "state": {
            "_model_module": "@jupyter-widgets/controls",
            "_model_module_version": "1.5.0",
            "_model_name": "ProgressStyleModel",
            "_view_count": null,
            "_view_module": "@jupyter-widgets/base",
            "_view_module_version": "1.2.0",
            "_view_name": "StyleView",
            "bar_color": null,
            "description_width": ""
          }
        },
        "c1c3e6bb73a94812a46ffa9003c7a640": {
          "model_module": "@jupyter-widgets/controls",
          "model_module_version": "1.5.0",
          "model_name": "HBoxModel",
          "state": {
            "_dom_classes": [],
            "_model_module": "@jupyter-widgets/controls",
            "_model_module_version": "1.5.0",
            "_model_name": "HBoxModel",
            "_view_count": null,
            "_view_module": "@jupyter-widgets/controls",
            "_view_module_version": "1.5.0",
            "_view_name": "HBoxView",
            "box_style": "",
            "children": [
              "IPY_MODEL_279a9747c9d54b329ddc3249c2246dba",
              "IPY_MODEL_6e106899f6b5404da2f9772f74baf17a",
              "IPY_MODEL_c4249b59bdc9402aba7c05e51873d7fb"
            ],
            "layout": "IPY_MODEL_28345969c64741dea2086e9cdc525c12"
          }
        },
        "c3ece829b967441e913c785d44e5ae25": {
          "model_module": "@jupyter-widgets/base",
          "model_module_version": "1.2.0",
          "model_name": "LayoutModel",
          "state": {
            "_model_module": "@jupyter-widgets/base",
            "_model_module_version": "1.2.0",
            "_model_name": "LayoutModel",
            "_view_count": null,
            "_view_module": "@jupyter-widgets/base",
            "_view_module_version": "1.2.0",
            "_view_name": "LayoutView",
            "align_content": null,
            "align_items": null,
            "align_self": null,
            "border": null,
            "bottom": null,
            "display": null,
            "flex": null,
            "flex_flow": null,
            "grid_area": null,
            "grid_auto_columns": null,
            "grid_auto_flow": null,
            "grid_auto_rows": null,
            "grid_column": null,
            "grid_gap": null,
            "grid_row": null,
            "grid_template_areas": null,
            "grid_template_columns": null,
            "grid_template_rows": null,
            "height": null,
            "justify_content": null,
            "justify_items": null,
            "left": null,
            "margin": null,
            "max_height": null,
            "max_width": null,
            "min_height": null,
            "min_width": null,
            "object_fit": null,
            "object_position": null,
            "order": null,
            "overflow": null,
            "overflow_x": null,
            "overflow_y": null,
            "padding": null,
            "right": null,
            "top": null,
            "visibility": null,
            "width": null
          }
        },
        "c4249b59bdc9402aba7c05e51873d7fb": {
          "model_module": "@jupyter-widgets/controls",
          "model_module_version": "1.5.0",
          "model_name": "HTMLModel",
          "state": {
            "_dom_classes": [],
            "_model_module": "@jupyter-widgets/controls",
            "_model_module_version": "1.5.0",
            "_model_name": "HTMLModel",
            "_view_count": null,
            "_view_module": "@jupyter-widgets/controls",
            "_view_module_version": "1.5.0",
            "_view_name": "HTMLView",
            "description": "",
            "description_tooltip": null,
            "layout": "IPY_MODEL_d93b59b8c9d34436a396ec288c5a5733",
            "placeholder": "​",
            "style": "IPY_MODEL_6c893bd450ac44159765286d3a99ee80",
            "value": " 46/46 [00:06&lt;00:00,  3.93it/s, Completed]"
          }
        },
        "d53e2d782a9542a08c954a3e75cae663": {
          "model_module": "@jupyter-widgets/base",
          "model_module_version": "1.2.0",
          "model_name": "LayoutModel",
          "state": {
            "_model_module": "@jupyter-widgets/base",
            "_model_module_version": "1.2.0",
            "_model_name": "LayoutModel",
            "_view_count": null,
            "_view_module": "@jupyter-widgets/base",
            "_view_module_version": "1.2.0",
            "_view_name": "LayoutView",
            "align_content": null,
            "align_items": null,
            "align_self": null,
            "border": null,
            "bottom": null,
            "display": null,
            "flex": null,
            "flex_flow": null,
            "grid_area": null,
            "grid_auto_columns": null,
            "grid_auto_flow": null,
            "grid_auto_rows": null,
            "grid_column": null,
            "grid_gap": null,
            "grid_row": null,
            "grid_template_areas": null,
            "grid_template_columns": null,
            "grid_template_rows": null,
            "height": null,
            "justify_content": null,
            "justify_items": null,
            "left": null,
            "margin": null,
            "max_height": null,
            "max_width": null,
            "min_height": null,
            "min_width": null,
            "object_fit": null,
            "object_position": null,
            "order": null,
            "overflow": null,
            "overflow_x": null,
            "overflow_y": null,
            "padding": null,
            "right": null,
            "top": null,
            "visibility": null,
            "width": null
          }
        },
        "d6c87f4901e040bea24b7884323abd7e": {
          "model_module": "@jupyter-widgets/controls",
          "model_module_version": "1.5.0",
          "model_name": "HTMLModel",
          "state": {
            "_dom_classes": [],
            "_model_module": "@jupyter-widgets/controls",
            "_model_module_version": "1.5.0",
            "_model_name": "HTMLModel",
            "_view_count": null,
            "_view_module": "@jupyter-widgets/controls",
            "_view_module_version": "1.5.0",
            "_view_name": "HTMLView",
            "description": "",
            "description_tooltip": null,
            "layout": "IPY_MODEL_737ae5d02c284e3bad5becb18fb2849a",
            "placeholder": "​",
            "style": "IPY_MODEL_93ae3da6075e4216a14ed6767ec45a2c",
            "value": "Generate report structure: 100%"
          }
        },
        "d93b59b8c9d34436a396ec288c5a5733": {
          "model_module": "@jupyter-widgets/base",
          "model_module_version": "1.2.0",
          "model_name": "LayoutModel",
          "state": {
            "_model_module": "@jupyter-widgets/base",
            "_model_module_version": "1.2.0",
            "_model_name": "LayoutModel",
            "_view_count": null,
            "_view_module": "@jupyter-widgets/base",
            "_view_module_version": "1.2.0",
            "_view_name": "LayoutView",
            "align_content": null,
            "align_items": null,
            "align_self": null,
            "border": null,
            "bottom": null,
            "display": null,
            "flex": null,
            "flex_flow": null,
            "grid_area": null,
            "grid_auto_columns": null,
            "grid_auto_flow": null,
            "grid_auto_rows": null,
            "grid_column": null,
            "grid_gap": null,
            "grid_row": null,
            "grid_template_areas": null,
            "grid_template_columns": null,
            "grid_template_rows": null,
            "height": null,
            "justify_content": null,
            "justify_items": null,
            "left": null,
            "margin": null,
            "max_height": null,
            "max_width": null,
            "min_height": null,
            "min_width": null,
            "object_fit": null,
            "object_position": null,
            "order": null,
            "overflow": null,
            "overflow_x": null,
            "overflow_y": null,
            "padding": null,
            "right": null,
            "top": null,
            "visibility": null,
            "width": null
          }
        },
        "db3b1cc3cc1b4bbb9427aa2f644f2546": {
          "model_module": "@jupyter-widgets/controls",
          "model_module_version": "1.5.0",
          "model_name": "FloatProgressModel",
          "state": {
            "_dom_classes": [],
            "_model_module": "@jupyter-widgets/controls",
            "_model_module_version": "1.5.0",
            "_model_name": "FloatProgressModel",
            "_view_count": null,
            "_view_module": "@jupyter-widgets/controls",
            "_view_module_version": "1.5.0",
            "_view_name": "ProgressView",
            "bar_style": "success",
            "description": "",
            "description_tooltip": null,
            "layout": "IPY_MODEL_c3ece829b967441e913c785d44e5ae25",
            "max": 1,
            "min": 0,
            "orientation": "horizontal",
            "style": "IPY_MODEL_8895ab946e08454ab4b2c311f4b80a37",
            "value": 1
          }
        },
        "dc6daca5b1284b5e88e2d23eb10b3a11": {
          "model_module": "@jupyter-widgets/base",
          "model_module_version": "1.2.0",
          "model_name": "LayoutModel",
          "state": {
            "_model_module": "@jupyter-widgets/base",
            "_model_module_version": "1.2.0",
            "_model_name": "LayoutModel",
            "_view_count": null,
            "_view_module": "@jupyter-widgets/base",
            "_view_module_version": "1.2.0",
            "_view_name": "LayoutView",
            "align_content": null,
            "align_items": null,
            "align_self": null,
            "border": null,
            "bottom": null,
            "display": null,
            "flex": null,
            "flex_flow": null,
            "grid_area": null,
            "grid_auto_columns": null,
            "grid_auto_flow": null,
            "grid_auto_rows": null,
            "grid_column": null,
            "grid_gap": null,
            "grid_row": null,
            "grid_template_areas": null,
            "grid_template_columns": null,
            "grid_template_rows": null,
            "height": null,
            "justify_content": null,
            "justify_items": null,
            "left": null,
            "margin": null,
            "max_height": null,
            "max_width": null,
            "min_height": null,
            "min_width": null,
            "object_fit": null,
            "object_position": null,
            "order": null,
            "overflow": null,
            "overflow_x": null,
            "overflow_y": null,
            "padding": null,
            "right": null,
            "top": null,
            "visibility": null,
            "width": null
          }
        },
        "eafd072f925442959f2c0fe8a5cbd5d4": {
          "model_module": "@jupyter-widgets/controls",
          "model_module_version": "1.5.0",
          "model_name": "HTMLModel",
          "state": {
            "_dom_classes": [],
            "_model_module": "@jupyter-widgets/controls",
            "_model_module_version": "1.5.0",
            "_model_name": "HTMLModel",
            "_view_count": null,
            "_view_module": "@jupyter-widgets/controls",
            "_view_module_version": "1.5.0",
            "_view_name": "HTMLView",
            "description": "",
            "description_tooltip": null,
            "layout": "IPY_MODEL_78ae7fb944a84cc7a5cc09ac2b349dca",
            "placeholder": "​",
            "style": "IPY_MODEL_a94024f88d8840dc8269e2f8be85c6c2",
            "value": "Render HTML: 100%"
          }
        },
        "f14b478effee4ebba6f573c4341db7fd": {
          "model_module": "@jupyter-widgets/controls",
          "model_module_version": "1.5.0",
          "model_name": "DescriptionStyleModel",
          "state": {
            "_model_module": "@jupyter-widgets/controls",
            "_model_module_version": "1.5.0",
            "_model_name": "DescriptionStyleModel",
            "_view_count": null,
            "_view_module": "@jupyter-widgets/base",
            "_view_module_version": "1.2.0",
            "_view_name": "StyleView",
            "description_width": ""
          }
        },
        "f5c69c9733b544c595e8982bb218e2af": {
          "model_module": "@jupyter-widgets/controls",
          "model_module_version": "1.5.0",
          "model_name": "HTMLModel",
          "state": {
            "_dom_classes": [],
            "_model_module": "@jupyter-widgets/controls",
            "_model_module_version": "1.5.0",
            "_model_name": "HTMLModel",
            "_view_count": null,
            "_view_module": "@jupyter-widgets/controls",
            "_view_module_version": "1.5.0",
            "_view_name": "HTMLView",
            "description": "",
            "description_tooltip": null,
            "layout": "IPY_MODEL_f70e2d865784427fada8db1c346bb56d",
            "placeholder": "​",
            "style": "IPY_MODEL_800b1d748da344f0803e5144abb1ab3c",
            "value": " 1/1 [00:00&lt;00:00,  1.05it/s]"
          }
        },
        "f70e2d865784427fada8db1c346bb56d": {
          "model_module": "@jupyter-widgets/base",
          "model_module_version": "1.2.0",
          "model_name": "LayoutModel",
          "state": {
            "_model_module": "@jupyter-widgets/base",
            "_model_module_version": "1.2.0",
            "_model_name": "LayoutModel",
            "_view_count": null,
            "_view_module": "@jupyter-widgets/base",
            "_view_module_version": "1.2.0",
            "_view_name": "LayoutView",
            "align_content": null,
            "align_items": null,
            "align_self": null,
            "border": null,
            "bottom": null,
            "display": null,
            "flex": null,
            "flex_flow": null,
            "grid_area": null,
            "grid_auto_columns": null,
            "grid_auto_flow": null,
            "grid_auto_rows": null,
            "grid_column": null,
            "grid_gap": null,
            "grid_row": null,
            "grid_template_areas": null,
            "grid_template_columns": null,
            "grid_template_rows": null,
            "height": null,
            "justify_content": null,
            "justify_items": null,
            "left": null,
            "margin": null,
            "max_height": null,
            "max_width": null,
            "min_height": null,
            "min_width": null,
            "object_fit": null,
            "object_position": null,
            "order": null,
            "overflow": null,
            "overflow_x": null,
            "overflow_y": null,
            "padding": null,
            "right": null,
            "top": null,
            "visibility": null,
            "width": null
          }
        }
      }
    }
  },
  "nbformat": 4,
  "nbformat_minor": 0
}
